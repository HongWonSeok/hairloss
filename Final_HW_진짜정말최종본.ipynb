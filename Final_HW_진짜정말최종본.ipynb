{
  "nbformat": 4,
  "nbformat_minor": 0,
  "metadata": {
    "colab": {
      "name": "Final_HW.ipynb",
      "provenance": [],
      "authorship_tag": "ABX9TyO1TGwRWbiVORYRhft3jUOw",
      "include_colab_link": true
    },
    "kernelspec": {
      "name": "python3",
      "display_name": "Python 3"
    },
    "language_info": {
      "name": "python"
    }
  },
  "cells": [
    {
      "cell_type": "markdown",
      "metadata": {
        "id": "view-in-github",
        "colab_type": "text"
      },
      "source": [
        "<a href=\"https://colab.research.google.com/github/HongWonSeok/hairloss/blob/main/Final_HW_%EC%A7%84%EC%A7%9C%EC%A0%95%EB%A7%90%EC%B5%9C%EC%A2%85%EB%B3%B8.ipynb\" target=\"_parent\"><img src=\"https://colab.research.google.com/assets/colab-badge.svg\" alt=\"Open In Colab\"/></a>"
      ]
    },
    {
      "cell_type": "code",
      "metadata": {
        "id": "V33f3KiAaror"
      },
      "source": [
        "import pandas as pd\n",
        "import matplotlib as mpl\n",
        "import matplotlib.pyplot as plt\n",
        "import matplotlib.font_manager as fm\n",
        "import seaborn as sns\n",
        "import numpy as np"
      ],
      "execution_count": 87,
      "outputs": []
    },
    {
      "cell_type": "markdown",
      "source": [
        "자료 출처 : https://www.idai.or.kr/user/data_market/detail.do?id=389a44b0-4e17-11ea-9259-977b63f3ed80\n",
        "\n",
        "**연령,성별 등을 대표 할 수 있는 탈모 정보 데이터이다\n",
        "\n",
        "이 데이터는 총 615명의 남녀에 대한 데이터이다."
      ],
      "metadata": {
        "id": "Vrnj0M9uZUy4"
      }
    },
    {
      "cell_type": "code",
      "metadata": {
        "colab": {
          "base_uri": "https://localhost:8080/",
          "height": 531
        },
        "id": "upoJ8ixEphEo",
        "outputId": "8e83b971-4e56-408a-f24c-859c05331d03"
      },
      "source": [
        "df = pd.read_csv('https://raw.githubusercontent.com/HongWonSeok/hairloss/main/hairlossdata.csv',encoding='CP949')\n",
        "df.head()\n"
      ],
      "execution_count": 88,
      "outputs": [
        {
          "output_type": "execute_result",
          "data": {
            "text/html": [
              "\n",
              "  <div id=\"df-8006d653-2aca-4b6e-8ef9-4539994cf39d\">\n",
              "    <div class=\"colab-df-container\">\n",
              "      <div>\n",
              "<style scoped>\n",
              "    .dataframe tbody tr th:only-of-type {\n",
              "        vertical-align: middle;\n",
              "    }\n",
              "\n",
              "    .dataframe tbody tr th {\n",
              "        vertical-align: top;\n",
              "    }\n",
              "\n",
              "    .dataframe thead th {\n",
              "        text-align: right;\n",
              "    }\n",
              "</style>\n",
              "<table border=\"1\" class=\"dataframe\">\n",
              "  <thead>\n",
              "    <tr style=\"text-align: right;\">\n",
              "      <th></th>\n",
              "      <th>성별</th>\n",
              "      <th>age</th>\n",
              "      <th>C-DNA-IL2RA</th>\n",
              "      <th>G-DNA- CTLA4</th>\n",
              "      <th>A-DNA-Chr20P11</th>\n",
              "      <th>G-DNA-HLA-DQB1</th>\n",
              "      <th>RNA-5alphaCt(dR)</th>\n",
              "      <th>RNA-GapCt(dR)</th>\n",
              "      <th>RNA-ddCt</th>\n",
              "      <th>RNA-개인수치</th>\n",
              "      <th>RNA-변환 값</th>\n",
              "      <th>수식</th>\n",
              "      <th>RNA 비교-남자비교</th>\n",
              "      <th>RNA 비교-여자비교</th>\n",
              "      <th>RNA 비교-10대비교</th>\n",
              "      <th>RNA 비교-20대비교</th>\n",
              "      <th>RNA 비교-30대비교</th>\n",
              "      <th>RNA 비교-40대비교</th>\n",
              "      <th>RNA 비교-50대비교</th>\n",
              "      <th>RNA 비교-정상인비교</th>\n",
              "      <th>물리검사(인장강도)-앞</th>\n",
              "      <th>물리검사(인장강도)-중앙</th>\n",
              "      <th>물리검사(인장강도)-뒤</th>\n",
              "      <th>tensile strength test-hairloss</th>\n",
              "      <th>물리검사(인장강도)-평균</th>\n",
              "      <th>물리검사(인장강도) 비교수치-남자비교</th>\n",
              "      <th>물리검사(인장강도) 비교수치-여자비교</th>\n",
              "      <th>물리검사(인장강도) 비교수치-10대비교</th>\n",
              "      <th>물리검사(인장강도) 비교수치-20대비교</th>\n",
              "      <th>물리검사(인장강도) 비교수치-30대비교</th>\n",
              "      <th>물리검사(인장강도) 비교수치-40대비교</th>\n",
              "      <th>물리검사(인장강도) 비교수치-50대비교</th>\n",
              "      <th>물리검사(인장강도) 비교수치-정상인비교</th>\n",
              "      <th>optical inspection-front</th>\n",
              "      <th>optical inspection-center</th>\n",
              "      <th>optical inspection-occipital</th>\n",
              "      <th>optical inspection-hairloss</th>\n",
              "      <th>optical inspection-mean</th>\n",
              "      <th>광학검사(현미경) 비교수치-남자비교</th>\n",
              "      <th>광학검사(현미경) 비교수치-여자비교</th>\n",
              "      <th>광학검사(현미경) 비교수치-10대비교</th>\n",
              "      <th>광학검사(현미경) 비교수치-20대비교</th>\n",
              "      <th>광학검사(현미경) 비교수치-30대비교</th>\n",
              "      <th>광학검사(현미경) 비교수치-40대비교</th>\n",
              "      <th>광학검사(현미경) 비교수치-50대비교</th>\n",
              "      <th>광학검사(현미경) 비교수치-정상인비교</th>\n",
              "      <th>life style - external factors</th>\n",
              "      <th>life style-internal factor</th>\n",
              "      <th>life style - mental health</th>\n",
              "      <th>life style - nutritional status</th>\n",
              "      <th>life style - total</th>\n",
              "      <th>가족탈모 여부</th>\n",
              "      <th>체모</th>\n",
              "      <th>아토피 여부</th>\n",
              "      <th>갑상선 질환 여부</th>\n",
              "      <th>알러지 비염 여부</th>\n",
              "      <th>샴푸 횟수</th>\n",
              "      <th>샴푸 후 헹굼</th>\n",
              "      <th>모자 착용</th>\n",
              "      <th>두피 타입</th>\n",
              "      <th>매달 염색 파마를 한다</th>\n",
              "      <th>수면 시간</th>\n",
              "      <th>쉽게 피곤함을 느낀다</th>\n",
              "      <th>Drink more than five drinks, three times a week</th>\n",
              "      <th>최소 하루 한 끼의 규칙적인 식사를 한다</th>\n",
              "      <th>I smoke more than half a pack a cigarette</th>\n",
              "      <th>땀이 날 정도의 운동</th>\n",
              "      <th>속쓰림이 있다</th>\n",
              "      <th>소화불량이 있다</th>\n",
              "      <th>주 3회 이상 섭취하는 음식에 체크</th>\n",
              "      <th>혼자라는 느낌이 들고 외롭다</th>\n",
              "      <th>무기력하다</th>\n",
              "      <th>감정을 솔직히 드러내는 편이다</th>\n",
              "      <th>취미, 여가 활동을 일주일에 1회 이상 한다</th>\n",
              "      <th>한 달에 1회 이상 모임을 갖는다</th>\n",
              "    </tr>\n",
              "  </thead>\n",
              "  <tbody>\n",
              "    <tr>\n",
              "      <th>0</th>\n",
              "      <td>man</td>\n",
              "      <td>10~19</td>\n",
              "      <td>CC</td>\n",
              "      <td>GA</td>\n",
              "      <td>AA</td>\n",
              "      <td>GA</td>\n",
              "      <td>37.64</td>\n",
              "      <td>36.03</td>\n",
              "      <td>0.327598</td>\n",
              "      <td>407</td>\n",
              "      <td>0.914006267</td>\n",
              "      <td>가</td>\n",
              "      <td>3.94379845</td>\n",
              "      <td>FALSE</td>\n",
              "      <td>3.909702209</td>\n",
              "      <td>FALSE</td>\n",
              "      <td>FALSE</td>\n",
              "      <td>FALSE</td>\n",
              "      <td>FALSE</td>\n",
              "      <td>3.76364</td>\n",
              "      <td>80.2</td>\n",
              "      <td>43.200</td>\n",
              "      <td>38.1</td>\n",
              "      <td>28.600000</td>\n",
              "      <td>47.525</td>\n",
              "      <td>0.458293153</td>\n",
              "      <td>FALSE</td>\n",
              "      <td>0.452964163</td>\n",
              "      <td>FALSE</td>\n",
              "      <td>FALSE</td>\n",
              "      <td>FALSE</td>\n",
              "      <td>FALSE</td>\n",
              "      <td>0.47525</td>\n",
              "      <td>37.12</td>\n",
              "      <td>24.000</td>\n",
              "      <td>20.400000</td>\n",
              "      <td>15.680000</td>\n",
              "      <td>24.3</td>\n",
              "      <td>0.725373134</td>\n",
              "      <td>FALSE</td>\n",
              "      <td>0.704347826</td>\n",
              "      <td>FALSE</td>\n",
              "      <td>FALSE</td>\n",
              "      <td>FALSE</td>\n",
              "      <td>FALSE</td>\n",
              "      <td>0.752322</td>\n",
              "      <td>55.0</td>\n",
              "      <td>75.000</td>\n",
              "      <td>80.0</td>\n",
              "      <td>45.0</td>\n",
              "      <td>63.75</td>\n",
              "      <td>NaN</td>\n",
              "      <td>NaN</td>\n",
              "      <td>NaN</td>\n",
              "      <td>NaN</td>\n",
              "      <td>NaN</td>\n",
              "      <td>NaN</td>\n",
              "      <td>NaN</td>\n",
              "      <td>NaN</td>\n",
              "      <td>NaN</td>\n",
              "      <td>NaN</td>\n",
              "      <td>NaN</td>\n",
              "      <td>NaN</td>\n",
              "      <td>NaN</td>\n",
              "      <td>NaN</td>\n",
              "      <td>NaN</td>\n",
              "      <td>NaN</td>\n",
              "      <td>NaN</td>\n",
              "      <td>NaN</td>\n",
              "      <td>NaN</td>\n",
              "      <td>NaN</td>\n",
              "      <td>NaN</td>\n",
              "      <td>NaN</td>\n",
              "      <td>NaN</td>\n",
              "      <td>NaN</td>\n",
              "    </tr>\n",
              "    <tr>\n",
              "      <th>1</th>\n",
              "      <td>man</td>\n",
              "      <td>20~29</td>\n",
              "      <td>CC</td>\n",
              "      <td>GA</td>\n",
              "      <td>GA</td>\n",
              "      <td>GA</td>\n",
              "      <td>32.22</td>\n",
              "      <td>31.24</td>\n",
              "      <td>0.506980</td>\n",
              "      <td>225.9268003</td>\n",
              "      <td>FALSE</td>\n",
              "      <td>FALSE</td>\n",
              "      <td>109.9739132</td>\n",
              "      <td>FALSE</td>\n",
              "      <td>FALSE</td>\n",
              "      <td>FALSE</td>\n",
              "      <td>145.041151</td>\n",
              "      <td>55.9</td>\n",
              "      <td>93.4</td>\n",
              "      <td>54.20000</td>\n",
              "      <td>51.4</td>\n",
              "      <td>63.725</td>\n",
              "      <td>0.7072697</td>\n",
              "      <td>0.000000</td>\n",
              "      <td>FALSE</td>\n",
              "      <td>0.661596761</td>\n",
              "      <td>FALSE</td>\n",
              "      <td>FALSE</td>\n",
              "      <td>FALSE</td>\n",
              "      <td>0.704922566</td>\n",
              "      <td>22.2</td>\n",
              "      <td>25</td>\n",
              "      <td>20.80000</td>\n",
              "      <td>19.90</td>\n",
              "      <td>21.975</td>\n",
              "      <td>0.708871</td>\n",
              "      <td>0.000000</td>\n",
              "      <td>NaN</td>\n",
              "      <td>0.68671875</td>\n",
              "      <td>FALSE</td>\n",
              "      <td>FALSE</td>\n",
              "      <td>FALSE</td>\n",
              "      <td>0.702076677</td>\n",
              "      <td>87</td>\n",
              "      <td>92.5</td>\n",
              "      <td>47.000000</td>\n",
              "      <td>22.0</td>\n",
              "      <td>62.125</td>\n",
              "      <td>NaN</td>\n",
              "      <td>NaN</td>\n",
              "      <td>NaN</td>\n",
              "      <td>NaN</td>\n",
              "      <td>NaN</td>\n",
              "      <td>NaN</td>\n",
              "      <td>NaN</td>\n",
              "      <td>NaN</td>\n",
              "      <td>NaN</td>\n",
              "      <td>NaN</td>\n",
              "      <td>NaN</td>\n",
              "      <td>NaN</td>\n",
              "      <td>NaN</td>\n",
              "      <td>NaN</td>\n",
              "      <td>NaN</td>\n",
              "      <td>NaN</td>\n",
              "      <td>NaN</td>\n",
              "      <td>NaN</td>\n",
              "      <td>NaN</td>\n",
              "      <td>NaN</td>\n",
              "      <td>NaN</td>\n",
              "      <td>NaN</td>\n",
              "      <td>NaN</td>\n",
              "      <td>NaN</td>\n",
              "      <td>NaN</td>\n",
              "      <td>NaN</td>\n",
              "      <td>NaN</td>\n",
              "    </tr>\n",
              "    <tr>\n",
              "      <th>2</th>\n",
              "      <td>man</td>\n",
              "      <td>20~29</td>\n",
              "      <td>CC</td>\n",
              "      <td>GA</td>\n",
              "      <td>GA</td>\n",
              "      <td>GA</td>\n",
              "      <td>27.49</td>\n",
              "      <td>23.02</td>\n",
              "      <td>0.045123</td>\n",
              "      <td>20.10819401</td>\n",
              "      <td>FALSE</td>\n",
              "      <td>FALSE</td>\n",
              "      <td>9.788023289</td>\n",
              "      <td>FALSE</td>\n",
              "      <td>FALSE</td>\n",
              "      <td>FALSE</td>\n",
              "      <td>12.90911746</td>\n",
              "      <td>122.1</td>\n",
              "      <td>130.9</td>\n",
              "      <td>119.30000</td>\n",
              "      <td>116.0</td>\n",
              "      <td>122.075</td>\n",
              "      <td>1.354883463</td>\n",
              "      <td>0.000000</td>\n",
              "      <td>FALSE</td>\n",
              "      <td>1.26738995</td>\n",
              "      <td>FALSE</td>\n",
              "      <td>FALSE</td>\n",
              "      <td>FALSE</td>\n",
              "      <td>1.350387168</td>\n",
              "      <td>36.4</td>\n",
              "      <td>43.52</td>\n",
              "      <td>42.64000</td>\n",
              "      <td>33.76</td>\n",
              "      <td>39.080</td>\n",
              "      <td>1.260645</td>\n",
              "      <td>0.000000</td>\n",
              "      <td>NaN</td>\n",
              "      <td>1.22125</td>\n",
              "      <td>FALSE</td>\n",
              "      <td>FALSE</td>\n",
              "      <td>FALSE</td>\n",
              "      <td>1.2485623</td>\n",
              "      <td>95</td>\n",
              "      <td>85</td>\n",
              "      <td>4.000000</td>\n",
              "      <td>40.0</td>\n",
              "      <td>56.000</td>\n",
              "      <td>NaN</td>\n",
              "      <td>NaN</td>\n",
              "      <td>NaN</td>\n",
              "      <td>NaN</td>\n",
              "      <td>NaN</td>\n",
              "      <td>NaN</td>\n",
              "      <td>NaN</td>\n",
              "      <td>NaN</td>\n",
              "      <td>NaN</td>\n",
              "      <td>NaN</td>\n",
              "      <td>NaN</td>\n",
              "      <td>NaN</td>\n",
              "      <td>NaN</td>\n",
              "      <td>NaN</td>\n",
              "      <td>NaN</td>\n",
              "      <td>NaN</td>\n",
              "      <td>NaN</td>\n",
              "      <td>NaN</td>\n",
              "      <td>NaN</td>\n",
              "      <td>NaN</td>\n",
              "      <td>NaN</td>\n",
              "      <td>NaN</td>\n",
              "      <td>NaN</td>\n",
              "      <td>NaN</td>\n",
              "      <td>NaN</td>\n",
              "      <td>NaN</td>\n",
              "      <td>NaN</td>\n",
              "    </tr>\n",
              "    <tr>\n",
              "      <th>3</th>\n",
              "      <td>woman</td>\n",
              "      <td>20~29</td>\n",
              "      <td>CC</td>\n",
              "      <td>GA</td>\n",
              "      <td>GA</td>\n",
              "      <td>GA</td>\n",
              "      <td>35.64</td>\n",
              "      <td>33.82</td>\n",
              "      <td>0.283221</td>\n",
              "      <td>FALSE</td>\n",
              "      <td>97.68058937</td>\n",
              "      <td>FALSE</td>\n",
              "      <td>61.43621938</td>\n",
              "      <td>FALSE</td>\n",
              "      <td>FALSE</td>\n",
              "      <td>FALSE</td>\n",
              "      <td>81.02630623</td>\n",
              "      <td>106.5</td>\n",
              "      <td>73.1</td>\n",
              "      <td>64.60000</td>\n",
              "      <td>48.3</td>\n",
              "      <td>73.125</td>\n",
              "      <td>FALSE</td>\n",
              "      <td>0.734925</td>\n",
              "      <td>FALSE</td>\n",
              "      <td>0.759188123</td>\n",
              "      <td>FALSE</td>\n",
              "      <td>FALSE</td>\n",
              "      <td>FALSE</td>\n",
              "      <td>0.808904867</td>\n",
              "      <td>34.88</td>\n",
              "      <td>35.04</td>\n",
              "      <td>25.84000</td>\n",
              "      <td>24.16</td>\n",
              "      <td>29.980</td>\n",
              "      <td>0.000000</td>\n",
              "      <td>0.951746</td>\n",
              "      <td>NaN</td>\n",
              "      <td>0.936875</td>\n",
              "      <td>FALSE</td>\n",
              "      <td>FALSE</td>\n",
              "      <td>FALSE</td>\n",
              "      <td>0.957827476</td>\n",
              "      <td>76.5</td>\n",
              "      <td>72.5</td>\n",
              "      <td>52.000000</td>\n",
              "      <td>44.0</td>\n",
              "      <td>61.250</td>\n",
              "      <td>NaN</td>\n",
              "      <td>NaN</td>\n",
              "      <td>NaN</td>\n",
              "      <td>NaN</td>\n",
              "      <td>NaN</td>\n",
              "      <td>NaN</td>\n",
              "      <td>NaN</td>\n",
              "      <td>NaN</td>\n",
              "      <td>NaN</td>\n",
              "      <td>NaN</td>\n",
              "      <td>NaN</td>\n",
              "      <td>NaN</td>\n",
              "      <td>NaN</td>\n",
              "      <td>NaN</td>\n",
              "      <td>NaN</td>\n",
              "      <td>NaN</td>\n",
              "      <td>NaN</td>\n",
              "      <td>NaN</td>\n",
              "      <td>NaN</td>\n",
              "      <td>NaN</td>\n",
              "      <td>NaN</td>\n",
              "      <td>NaN</td>\n",
              "      <td>NaN</td>\n",
              "      <td>NaN</td>\n",
              "      <td>NaN</td>\n",
              "      <td>NaN</td>\n",
              "      <td>NaN</td>\n",
              "    </tr>\n",
              "    <tr>\n",
              "      <th>4</th>\n",
              "      <td>man</td>\n",
              "      <td>20~29</td>\n",
              "      <td>TT</td>\n",
              "      <td>GA</td>\n",
              "      <td>GA</td>\n",
              "      <td>GG</td>\n",
              "      <td>29.45</td>\n",
              "      <td>27.65</td>\n",
              "      <td>0.287175</td>\n",
              "      <td>127.9744157</td>\n",
              "      <td>FALSE</td>\n",
              "      <td>FALSE</td>\n",
              "      <td>62.29383704</td>\n",
              "      <td>FALSE</td>\n",
              "      <td>FALSE</td>\n",
              "      <td>FALSE</td>\n",
              "      <td>82.15739131</td>\n",
              "      <td>54.2</td>\n",
              "      <td>88.1</td>\n",
              "      <td>100.20000</td>\n",
              "      <td>37.6</td>\n",
              "      <td>70.025</td>\n",
              "      <td>0.777192009</td>\n",
              "      <td>0.000000</td>\n",
              "      <td>FALSE</td>\n",
              "      <td>0.727003738</td>\n",
              "      <td>FALSE</td>\n",
              "      <td>FALSE</td>\n",
              "      <td>FALSE</td>\n",
              "      <td>0.774612832</td>\n",
              "      <td>20.8</td>\n",
              "      <td>35.6</td>\n",
              "      <td>29.92000</td>\n",
              "      <td>21.68</td>\n",
              "      <td>27.000</td>\n",
              "      <td>0.870968</td>\n",
              "      <td>0.000000</td>\n",
              "      <td>NaN</td>\n",
              "      <td>0.84375</td>\n",
              "      <td>FALSE</td>\n",
              "      <td>FALSE</td>\n",
              "      <td>FALSE</td>\n",
              "      <td>0.862619808</td>\n",
              "      <td>85</td>\n",
              "      <td>87.5</td>\n",
              "      <td>37.000000</td>\n",
              "      <td>26.0</td>\n",
              "      <td>58.875</td>\n",
              "      <td>NaN</td>\n",
              "      <td>NaN</td>\n",
              "      <td>NaN</td>\n",
              "      <td>NaN</td>\n",
              "      <td>NaN</td>\n",
              "      <td>NaN</td>\n",
              "      <td>NaN</td>\n",
              "      <td>NaN</td>\n",
              "      <td>NaN</td>\n",
              "      <td>NaN</td>\n",
              "      <td>NaN</td>\n",
              "      <td>NaN</td>\n",
              "      <td>NaN</td>\n",
              "      <td>NaN</td>\n",
              "      <td>NaN</td>\n",
              "      <td>NaN</td>\n",
              "      <td>NaN</td>\n",
              "      <td>NaN</td>\n",
              "      <td>NaN</td>\n",
              "      <td>NaN</td>\n",
              "      <td>NaN</td>\n",
              "      <td>NaN</td>\n",
              "      <td>NaN</td>\n",
              "      <td>NaN</td>\n",
              "      <td>NaN</td>\n",
              "      <td>NaN</td>\n",
              "      <td>NaN</td>\n",
              "    </tr>\n",
              "  </tbody>\n",
              "</table>\n",
              "</div>\n",
              "      <button class=\"colab-df-convert\" onclick=\"convertToInteractive('df-8006d653-2aca-4b6e-8ef9-4539994cf39d')\"\n",
              "              title=\"Convert this dataframe to an interactive table.\"\n",
              "              style=\"display:none;\">\n",
              "        \n",
              "  <svg xmlns=\"http://www.w3.org/2000/svg\" height=\"24px\"viewBox=\"0 0 24 24\"\n",
              "       width=\"24px\">\n",
              "    <path d=\"M0 0h24v24H0V0z\" fill=\"none\"/>\n",
              "    <path d=\"M18.56 5.44l.94 2.06.94-2.06 2.06-.94-2.06-.94-.94-2.06-.94 2.06-2.06.94zm-11 1L8.5 8.5l.94-2.06 2.06-.94-2.06-.94L8.5 2.5l-.94 2.06-2.06.94zm10 10l.94 2.06.94-2.06 2.06-.94-2.06-.94-.94-2.06-.94 2.06-2.06.94z\"/><path d=\"M17.41 7.96l-1.37-1.37c-.4-.4-.92-.59-1.43-.59-.52 0-1.04.2-1.43.59L10.3 9.45l-7.72 7.72c-.78.78-.78 2.05 0 2.83L4 21.41c.39.39.9.59 1.41.59.51 0 1.02-.2 1.41-.59l7.78-7.78 2.81-2.81c.8-.78.8-2.07 0-2.86zM5.41 20L4 18.59l7.72-7.72 1.47 1.35L5.41 20z\"/>\n",
              "  </svg>\n",
              "      </button>\n",
              "      \n",
              "  <style>\n",
              "    .colab-df-container {\n",
              "      display:flex;\n",
              "      flex-wrap:wrap;\n",
              "      gap: 12px;\n",
              "    }\n",
              "\n",
              "    .colab-df-convert {\n",
              "      background-color: #E8F0FE;\n",
              "      border: none;\n",
              "      border-radius: 50%;\n",
              "      cursor: pointer;\n",
              "      display: none;\n",
              "      fill: #1967D2;\n",
              "      height: 32px;\n",
              "      padding: 0 0 0 0;\n",
              "      width: 32px;\n",
              "    }\n",
              "\n",
              "    .colab-df-convert:hover {\n",
              "      background-color: #E2EBFA;\n",
              "      box-shadow: 0px 1px 2px rgba(60, 64, 67, 0.3), 0px 1px 3px 1px rgba(60, 64, 67, 0.15);\n",
              "      fill: #174EA6;\n",
              "    }\n",
              "\n",
              "    [theme=dark] .colab-df-convert {\n",
              "      background-color: #3B4455;\n",
              "      fill: #D2E3FC;\n",
              "    }\n",
              "\n",
              "    [theme=dark] .colab-df-convert:hover {\n",
              "      background-color: #434B5C;\n",
              "      box-shadow: 0px 1px 3px 1px rgba(0, 0, 0, 0.15);\n",
              "      filter: drop-shadow(0px 1px 2px rgba(0, 0, 0, 0.3));\n",
              "      fill: #FFFFFF;\n",
              "    }\n",
              "  </style>\n",
              "\n",
              "      <script>\n",
              "        const buttonEl =\n",
              "          document.querySelector('#df-8006d653-2aca-4b6e-8ef9-4539994cf39d button.colab-df-convert');\n",
              "        buttonEl.style.display =\n",
              "          google.colab.kernel.accessAllowed ? 'block' : 'none';\n",
              "\n",
              "        async function convertToInteractive(key) {\n",
              "          const element = document.querySelector('#df-8006d653-2aca-4b6e-8ef9-4539994cf39d');\n",
              "          const dataTable =\n",
              "            await google.colab.kernel.invokeFunction('convertToInteractive',\n",
              "                                                     [key], {});\n",
              "          if (!dataTable) return;\n",
              "\n",
              "          const docLinkHtml = 'Like what you see? Visit the ' +\n",
              "            '<a target=\"_blank\" href=https://colab.research.google.com/notebooks/data_table.ipynb>data table notebook</a>'\n",
              "            + ' to learn more about interactive tables.';\n",
              "          element.innerHTML = '';\n",
              "          dataTable['output_type'] = 'display_data';\n",
              "          await google.colab.output.renderOutput(dataTable, element);\n",
              "          const docLink = document.createElement('div');\n",
              "          docLink.innerHTML = docLinkHtml;\n",
              "          element.appendChild(docLink);\n",
              "        }\n",
              "      </script>\n",
              "    </div>\n",
              "  </div>\n",
              "  "
            ],
            "text/plain": [
              "      성별    age  ... 취미, 여가 활동을 일주일에 1회 이상 한다 한 달에 1회 이상 모임을 갖는다\n",
              "0    man  10~19  ...                      NaN                NaN\n",
              "1    man  20~29  ...                      NaN                NaN\n",
              "2    man  20~29  ...                      NaN                NaN\n",
              "3  woman  20~29  ...                      NaN                NaN\n",
              "4    man  20~29  ...                      NaN                NaN\n",
              "\n",
              "[5 rows x 75 columns]"
            ]
          },
          "metadata": {},
          "execution_count": 88
        }
      ]
    },
    {
      "cell_type": "markdown",
      "source": [
        "**데이터상의 남자와 여자의 비율**\n",
        "\n",
        "이 데이터는 약71.7%의 남성과 28.3%의 여성의 데이터로 이루어져 있다. "
      ],
      "metadata": {
        "id": "RJcDCn-XE36w"
      }
    },
    {
      "cell_type": "code",
      "source": [
        "\n",
        "genderCount = df['성별'].value_counts(normalize =True)\n",
        "fig,ax = plt.subplots(figsize=(6,6))\n",
        "\n",
        "ax.pie(genderCount,\n",
        "       labels=genderCount.index,\n",
        "       explode=[0.05,0.05],\n",
        "       autopct=\"%1.1f%%\"\n",
        "       )\n",
        "plt.show()\n"
      ],
      "metadata": {
        "colab": {
          "base_uri": "https://localhost:8080/",
          "height": 357
        },
        "id": "p7tP3L8LY0_b",
        "outputId": "6bf0f942-94dc-47cd-b88d-550988d98b9b"
      },
      "execution_count": 89,
      "outputs": [
        {
          "output_type": "display_data",
          "data": {
            "image/png": "[encoded data removed]",
            "text/plain": [
              "<Figure size 432x432 with 1 Axes>"
            ]
          },
          "metadata": {}
        }
      ]
    },
    {
      "cell_type": "markdown",
      "source": [
        "**광학 검사(현미경)에 대한 탈모 진행 상태이다.**"
      ],
      "metadata": {
        "id": "k5PJzA0Io9Oi"
      }
    },
    {
      "cell_type": "code",
      "source": [
        "hair=df['optical inspection-hairloss'].dropna(axis=0)\n",
        "d=hair.index\n",
        "fig ,ax = plt.subplots(figsize=(10,5))\n",
        "\n",
        "sns.kdeplot(data=d,x=hair)"
      ],
      "metadata": {
        "colab": {
          "base_uri": "https://localhost:8080/",
          "height": 352
        },
        "id": "hmVQSbsTo5Xc",
        "outputId": "d30633ab-efe9-427d-c651-7339ca911174"
      },
      "execution_count": 90,
      "outputs": [
        {
          "output_type": "execute_result",
          "data": {
            "text/plain": [
              "<matplotlib.axes._subplots.AxesSubplot at 0x7fa94ed3e350>"
            ]
          },
          "metadata": {},
          "execution_count": 90
        },
        {
          "output_type": "display_data",
          "data": {
            "image/png": "[encoded data removed]",
            "text/plain": [
              "<Figure size 720x360 with 1 Axes>"
            ]
          },
          "metadata": {
            "needs_background": "light"
          }
        }
      ]
    },
    {
      "cell_type": "markdown",
      "source": [
        "**광학검사(현미경)와 물리 검사(인장강도)의 상관관계**\n",
        "\n",
        "이 자료에서는 탈모에 대한 검사를 두 개 하여 수치로 나타내주었다. 현미경검사와 인장강도에 대한검사를 실시하였는데, 이 두개의 데이터로 상관 관계를 나타내본다.\n",
        "\n",
        "수치가 1에 가까울 수록 관계가 깊고 0에 가까울 수록 관계가 적다. 아래 결과를 보면 현미경 검사결과 탈모율이 진행되는 상태와 두피에대한 인장 강도에 대한 correlation값이 0.83으로매우 높게 나왔다. 이 말은 인장강도와 탈모 진행 상태와의 관계가 밀접하다는 것을 알 수있다.\n",
        "\n",
        "참조(https://youngwonhan-family.tistory.com/62)"
      ],
      "metadata": {
        "id": "S2_B1FrOm_zR"
      }
    },
    {
      "cell_type": "code",
      "source": [
        "data=df[['tensile strength test-hairloss','optical inspection-hairloss']].dropna(axis=0)\n",
        "\n",
        "corr_data = data.corr()\n",
        "corr_data = corr_data.apply(lambda x: round(x,2))\n",
        "corr_data"
      ],
      "metadata": {
        "colab": {
          "base_uri": "https://localhost:8080/",
          "height": 112
        },
        "id": "scX__2QYnA7p",
        "outputId": "875c4567-c569-46af-9853-85fb83989855"
      },
      "execution_count": 91,
      "outputs": [
        {
          "output_type": "execute_result",
          "data": {
            "text/html": [
              "\n",
              "  <div id=\"df-c968ea9d-6c13-483c-9d37-7e2481391fb9\">\n",
              "    <div class=\"colab-df-container\">\n",
              "      <div>\n",
              "<style scoped>\n",
              "    .dataframe tbody tr th:only-of-type {\n",
              "        vertical-align: middle;\n",
              "    }\n",
              "\n",
              "    .dataframe tbody tr th {\n",
              "        vertical-align: top;\n",
              "    }\n",
              "\n",
              "    .dataframe thead th {\n",
              "        text-align: right;\n",
              "    }\n",
              "</style>\n",
              "<table border=\"1\" class=\"dataframe\">\n",
              "  <thead>\n",
              "    <tr style=\"text-align: right;\">\n",
              "      <th></th>\n",
              "      <th>tensile strength test-hairloss</th>\n",
              "      <th>optical inspection-hairloss</th>\n",
              "    </tr>\n",
              "  </thead>\n",
              "  <tbody>\n",
              "    <tr>\n",
              "      <th>tensile strength test-hairloss</th>\n",
              "      <td>1.00</td>\n",
              "      <td>0.84</td>\n",
              "    </tr>\n",
              "    <tr>\n",
              "      <th>optical inspection-hairloss</th>\n",
              "      <td>0.84</td>\n",
              "      <td>1.00</td>\n",
              "    </tr>\n",
              "  </tbody>\n",
              "</table>\n",
              "</div>\n",
              "      <button class=\"colab-df-convert\" onclick=\"convertToInteractive('df-c968ea9d-6c13-483c-9d37-7e2481391fb9')\"\n",
              "              title=\"Convert this dataframe to an interactive table.\"\n",
              "              style=\"display:none;\">\n",
              "        \n",
              "  <svg xmlns=\"http://www.w3.org/2000/svg\" height=\"24px\"viewBox=\"0 0 24 24\"\n",
              "       width=\"24px\">\n",
              "    <path d=\"M0 0h24v24H0V0z\" fill=\"none\"/>\n",
              "    <path d=\"M18.56 5.44l.94 2.06.94-2.06 2.06-.94-2.06-.94-.94-2.06-.94 2.06-2.06.94zm-11 1L8.5 8.5l.94-2.06 2.06-.94-2.06-.94L8.5 2.5l-.94 2.06-2.06.94zm10 10l.94 2.06.94-2.06 2.06-.94-2.06-.94-.94-2.06-.94 2.06-2.06.94z\"/><path d=\"M17.41 7.96l-1.37-1.37c-.4-.4-.92-.59-1.43-.59-.52 0-1.04.2-1.43.59L10.3 9.45l-7.72 7.72c-.78.78-.78 2.05 0 2.83L4 21.41c.39.39.9.59 1.41.59.51 0 1.02-.2 1.41-.59l7.78-7.78 2.81-2.81c.8-.78.8-2.07 0-2.86zM5.41 20L4 18.59l7.72-7.72 1.47 1.35L5.41 20z\"/>\n",
              "  </svg>\n",
              "      </button>\n",
              "      \n",
              "  <style>\n",
              "    .colab-df-container {\n",
              "      display:flex;\n",
              "      flex-wrap:wrap;\n",
              "      gap: 12px;\n",
              "    }\n",
              "\n",
              "    .colab-df-convert {\n",
              "      background-color: #E8F0FE;\n",
              "      border: none;\n",
              "      border-radius: 50%;\n",
              "      cursor: pointer;\n",
              "      display: none;\n",
              "      fill: #1967D2;\n",
              "      height: 32px;\n",
              "      padding: 0 0 0 0;\n",
              "      width: 32px;\n",
              "    }\n",
              "\n",
              "    .colab-df-convert:hover {\n",
              "      background-color: #E2EBFA;\n",
              "      box-shadow: 0px 1px 2px rgba(60, 64, 67, 0.3), 0px 1px 3px 1px rgba(60, 64, 67, 0.15);\n",
              "      fill: #174EA6;\n",
              "    }\n",
              "\n",
              "    [theme=dark] .colab-df-convert {\n",
              "      background-color: #3B4455;\n",
              "      fill: #D2E3FC;\n",
              "    }\n",
              "\n",
              "    [theme=dark] .colab-df-convert:hover {\n",
              "      background-color: #434B5C;\n",
              "      box-shadow: 0px 1px 3px 1px rgba(0, 0, 0, 0.15);\n",
              "      filter: drop-shadow(0px 1px 2px rgba(0, 0, 0, 0.3));\n",
              "      fill: #FFFFFF;\n",
              "    }\n",
              "  </style>\n",
              "\n",
              "      <script>\n",
              "        const buttonEl =\n",
              "          document.querySelector('#df-c968ea9d-6c13-483c-9d37-7e2481391fb9 button.colab-df-convert');\n",
              "        buttonEl.style.display =\n",
              "          google.colab.kernel.accessAllowed ? 'block' : 'none';\n",
              "\n",
              "        async function convertToInteractive(key) {\n",
              "          const element = document.querySelector('#df-c968ea9d-6c13-483c-9d37-7e2481391fb9');\n",
              "          const dataTable =\n",
              "            await google.colab.kernel.invokeFunction('convertToInteractive',\n",
              "                                                     [key], {});\n",
              "          if (!dataTable) return;\n",
              "\n",
              "          const docLinkHtml = 'Like what you see? Visit the ' +\n",
              "            '<a target=\"_blank\" href=https://colab.research.google.com/notebooks/data_table.ipynb>data table notebook</a>'\n",
              "            + ' to learn more about interactive tables.';\n",
              "          element.innerHTML = '';\n",
              "          dataTable['output_type'] = 'display_data';\n",
              "          await google.colab.output.renderOutput(dataTable, element);\n",
              "          const docLink = document.createElement('div');\n",
              "          docLink.innerHTML = docLinkHtml;\n",
              "          element.appendChild(docLink);\n",
              "        }\n",
              "      </script>\n",
              "    </div>\n",
              "  </div>\n",
              "  "
            ],
            "text/plain": [
              "                                tensile strength test-hairloss  optical inspection-hairloss\n",
              "tensile strength test-hairloss                            1.00                         0.84\n",
              "optical inspection-hairloss                               0.84                         1.00"
            ]
          },
          "metadata": {},
          "execution_count": 91
        }
      ]
    },
    {
      "cell_type": "markdown",
      "source": [
        "**인장 강도에 대한 KDE PLOT이다.**\n",
        "\n",
        "높은 상관계수에 걸맞게 광학검사(현미경)의 PLOT과 유사한 형태를 띄고 있다."
      ],
      "metadata": {
        "id": "Z_Mm3i4GnW9w"
      }
    },
    {
      "cell_type": "code",
      "source": [
        "hair=df['tensile strength test-hairloss'].dropna(axis=0)\n",
        "d=hair.index\n",
        "fig ,ax = plt.subplots(figsize=(10,5))\n",
        "\n",
        "sns.kdeplot(data=d,x=hair)"
      ],
      "metadata": {
        "colab": {
          "base_uri": "https://localhost:8080/",
          "height": 352
        },
        "id": "YMR77kZEnIfb",
        "outputId": "c21220bf-534a-4230-c91c-0045559c9d20"
      },
      "execution_count": 93,
      "outputs": [
        {
          "output_type": "execute_result",
          "data": {
            "text/plain": [
              "<matplotlib.axes._subplots.AxesSubplot at 0x7fa94ec88a10>"
            ]
          },
          "metadata": {},
          "execution_count": 93
        },
        {
          "output_type": "display_data",
          "data": {
            "image/png": "[encoded data removed]",
            "text/plain": [
              "<Figure size 720x360 with 1 Axes>"
            ]
          },
          "metadata": {
            "needs_background": "light"
          }
        }
      ]
    },
    {
      "cell_type": "markdown",
      "source": [
        "인장강도에 따른 탈모진행률에대한 LeanearRegression결과 r2 score가0.6427이 나왔다."
      ],
      "metadata": {
        "id": "uDiGDaUciJ6X"
      }
    },
    {
      "cell_type": "code",
      "source": [
        "X_SET = ['tensile strength test-hairloss']\n",
        "X=df[X_SET].astype('int')\n",
        "y=df['optical inspection-hairloss'].astype('int')\n",
        "\n",
        "from sklearn.model_selection import train_test_split\n",
        "\n",
        "X_train, X_test, y_train, y_test = train_test_split(\n",
        "    X,y,test_size=0.2,random_state=42)\n",
        "\n",
        "from sklearn.linear_model import LinearRegression\n",
        "\n",
        "LR = LinearRegression()\n",
        "\n",
        "LR.fit(X_train,y_train)\n",
        "\n",
        "y_prediction =  LR.predict(X_test)\n",
        "\n",
        "from sklearn.metrics import r2_score\n",
        "from sklearn.metrics import mean_squared_error\n",
        "\n",
        "\n",
        "score=r2_score(y_test,y_prediction)\n",
        "\n",
        "print('r2 socre is %.4f'%score)\n",
        "print('root_mean_squared error of is %.2f'%np.sqrt(mean_squared_error(\n",
        "    y_test, y_prediction)))\n"
      ],
      "metadata": {
        "colab": {
          "base_uri": "https://localhost:8080/"
        },
        "id": "URPjUbdmfJOq",
        "outputId": "30706696-f569-4071-b9e1-c346c2d1ce4b"
      },
      "execution_count": 94,
      "outputs": [
        {
          "output_type": "stream",
          "name": "stdout",
          "text": [
            "r2 socre is 0.6427\n",
            "root_mean_squared error of is 5.15\n"
          ]
        }
      ]
    },
    {
      "cell_type": "markdown",
      "source": [
        "**나이대별 탈모** \n",
        "\n",
        "전체 615명들을 나이대 별로 count"
      ],
      "metadata": {
        "id": "8AzY2_xbrviW"
      }
    },
    {
      "cell_type": "code",
      "source": [
        "age = df.age.value_counts()\n",
        "age"
      ],
      "metadata": {
        "colab": {
          "base_uri": "https://localhost:8080/"
        },
        "id": "Xdr3ahiBrzNx",
        "outputId": "68b4b332-8761-4a50-893b-350a96d016d7"
      },
      "execution_count": 95,
      "outputs": [
        {
          "output_type": "execute_result",
          "data": {
            "text/plain": [
              "20~29    315\n",
              "30~39    181\n",
              "40~49     54\n",
              "10~19     35\n",
              "50+       30\n",
              "Name: age, dtype: int64"
            ]
          },
          "metadata": {},
          "execution_count": 95
        }
      ]
    },
    {
      "cell_type": "markdown",
      "source": [
        "참고 자료(https://search.naver.com/search.naver?sm=tab_hty.top&where=nexearch&query=%ED%83%88%EB%AA%A8+%EB%82%98%EC%9D%B4&oquery=%ED%83%88%EB%AA%A8&tqi=hNvOOdp0J14ssSpdZUwssssstOZ-521626)\n",
        "\n",
        "이 자료를 보게되면 단순히 네이버에 '탈모 나이'라고 쳤는데도 젊은 층들에게도 많이 나타 날 수 있다는 점을 보여준다. 또한 젊은 층들이 외적인 부분에 많이 관심을 가지고 있기 때문에 더 적극적인 설문 참여가 있지 않았을까 예상한다. 물론 10대는 성장기기 때문에 탈모의 발생률이 적어 10대의 데이터수가 적다고 본다.\n",
        "\n",
        "또한 아래의 boxplot을 보게되면 20대,30대의 이상치가 다른 나이대에 비해 많은데 아래의 boxplot을 보면 이상치가 낮게 잡혀있다는 것은 탈모 경증 환자들또한 이 데이터셋에 포함되어있다라고 볼 수있다. 이점을 보게되면 20대,30대가 탈모에대해 관심이 많다고 볼 수 있다. "
      ],
      "metadata": {
        "id": "WdRA4HvBYhR_"
      }
    },
    {
      "cell_type": "code",
      "source": [
        "plt.plot(age.index,age)\n",
        "plt.show()"
      ],
      "metadata": {
        "colab": {
          "base_uri": "https://localhost:8080/",
          "height": 265
        },
        "id": "AI684Nq-uQD-",
        "outputId": "d6defbf1-df00-42ea-afe5-2c2a1a6cc865"
      },
      "execution_count": 96,
      "outputs": [
        {
          "output_type": "display_data",
          "data": {
            "image/png": "[encoded data removed]",
            "text/plain": [
              "<Figure size 432x288 with 1 Axes>"
            ]
          },
          "metadata": {
            "needs_background": "light"
          }
        }
      ]
    },
    {
      "cell_type": "markdown",
      "source": [
        "나이대별로 광학 검사(현미경) 전면, 중앙 , 후두부에 대한 값을 추출하였다."
      ],
      "metadata": {
        "id": "v6iOjCaFK2NJ"
      }
    },
    {
      "cell_type": "code",
      "source": [
        "front='optical inspection-front'\n",
        "center='optical inspection-center'\n",
        "occipital='optical inspection-occipital'\n",
        "\n",
        "#나이대별로 추출\n",
        "age_10s=df[df['age']=='10~19']\n",
        "age_20s=df[df['age']=='20~29']\n",
        "age_30s=df[df['age']=='30~39']\n",
        "age_40s=df[df['age']=='40~49']\n",
        "age_50plus=df[(df['age']=='50+')]\n"
      ],
      "metadata": {
        "id": "cIMNUWEI3eCb"
      },
      "execution_count": 97,
      "outputs": []
    },
    {
      "cell_type": "markdown",
      "source": [
        "참조 (https://3months.tistory.com/292)\n",
        "나이대별로 만든 것을 데이터 프레임화 시킴\n",
        "\n",
        "나이 대 별로 각 부위에 대해 평균을 내본 결과 10대부터 50대이상 까지 모든 계층에서  비슷한 결과를 보였다. 처음 결과를 예측했을때는 20대가 탈모활성도가 적었다가 나이가 들수록 높아질 것으로 예측했는데 이 결과를 보니 내가 가져온 데이터는 탈모가 일정수준 발생한 사람들에 대한 데이터라는 점을 알게 되었다."
      ],
      "metadata": {
        "id": "yDfDiATH_y75"
      }
    },
    {
      "cell_type": "code",
      "source": [
        "\n",
        "#10대에 대한 전면,중앙,후두부 평균\n",
        "age_10s_front_mean=age_10s[front].mean()\n",
        "age_10s_center_mean=age_10s[center].mean()\n",
        "age_10s_occipital_mean=age_10s[occipital].mean()\n",
        "\n",
        "#20대에 대한 전면,중앙,후두부 평균\n",
        "age_20s_front_mean=age_20s[front].mean()\n",
        "age_20s_center_mean=age_20s[center].mean()\n",
        "age_20s_occipital_mean=age_20s[occipital].mean()\n",
        "\n",
        "#30대에 대한 전면,중앙,후두부 평균\n",
        "age_30s_front_mean=age_30s[front].mean()\n",
        "age_30s_center_mean=age_30s[center].mean()\n",
        "age_30s_occipital_mean=age_30s[occipital].mean()\n",
        "\n",
        "#40대에 대한 전면,중앙,후두부 평균\n",
        "age_40s_front_mean=age_40s[front].mean()\n",
        "age_40s_center_mean=age_40s[center].mean()\n",
        "age_40s_occipital_mean=age_40s[occipital].mean()\n",
        "\n",
        "#50대이상에 대한 전면,중앙,후두부 평균\n",
        "age_50plus_front_mean=age_50plus[front].mean()\n",
        "age_50plus_center_mean=age_50plus[center].mean()\n",
        "age_50plus_occipital_mean=age_50plus[occipital].mean()\n",
        "\n",
        "age_hairloss = pd.DataFrame(data=np.array([['10~19',age_10s_front_mean, age_10s_center_mean, age_10s_occipital_mean],\n",
        "                                          ['20~29',age_20s_front_mean, age_20s_center_mean, age_20s_occipital_mean],\n",
        "                                          ['30~39',age_30s_front_mean, age_30s_center_mean, age_30s_occipital_mean],\n",
        "                                          ['40~49',age_40s_front_mean, age_40s_center_mean, age_40s_occipital_mean],\n",
        "                                          ['50+',age_50plus_front_mean, age_50plus_center_mean, age_50plus_occipital_mean]]),            \n",
        "                            columns=['age',front,center,occipital])\n",
        "\n",
        "age_hairloss"
      ],
      "metadata": {
        "colab": {
          "base_uri": "https://localhost:8080/",
          "height": 206
        },
        "id": "_gRMgHTc0Ioz",
        "outputId": "259bad10-dd1b-4ef9-8f9d-edffe44df4e4"
      },
      "execution_count": 98,
      "outputs": [
        {
          "output_type": "execute_result",
          "data": {
            "text/html": [
              "\n",
              "  <div id=\"df-fe5a0e41-52ea-4373-805a-8e30c3507521\">\n",
              "    <div class=\"colab-df-container\">\n",
              "      <div>\n",
              "<style scoped>\n",
              "    .dataframe tbody tr th:only-of-type {\n",
              "        vertical-align: middle;\n",
              "    }\n",
              "\n",
              "    .dataframe tbody tr th {\n",
              "        vertical-align: top;\n",
              "    }\n",
              "\n",
              "    .dataframe thead th {\n",
              "        text-align: right;\n",
              "    }\n",
              "</style>\n",
              "<table border=\"1\" class=\"dataframe\">\n",
              "  <thead>\n",
              "    <tr style=\"text-align: right;\">\n",
              "      <th></th>\n",
              "      <th>age</th>\n",
              "      <th>optical inspection-front</th>\n",
              "      <th>optical inspection-center</th>\n",
              "      <th>optical inspection-occipital</th>\n",
              "    </tr>\n",
              "  </thead>\n",
              "  <tbody>\n",
              "    <tr>\n",
              "      <th>0</th>\n",
              "      <td>10~19</td>\n",
              "      <td>30.36685714285714</td>\n",
              "      <td>29.148000000000007</td>\n",
              "      <td>29.09942857142857</td>\n",
              "    </tr>\n",
              "    <tr>\n",
              "      <th>1</th>\n",
              "      <td>20~29</td>\n",
              "      <td>30.42958730158731</td>\n",
              "      <td>29.5343015873016</td>\n",
              "      <td>29.76120788530475</td>\n",
              "    </tr>\n",
              "    <tr>\n",
              "      <th>2</th>\n",
              "      <td>30~39</td>\n",
              "      <td>29.487176795580098</td>\n",
              "      <td>28.92795580110499</td>\n",
              "      <td>30.17142541436464</td>\n",
              "    </tr>\n",
              "    <tr>\n",
              "      <th>3</th>\n",
              "      <td>40~49</td>\n",
              "      <td>29.35611111111111</td>\n",
              "      <td>29.028703703703716</td>\n",
              "      <td>30.04425925925926</td>\n",
              "    </tr>\n",
              "    <tr>\n",
              "      <th>4</th>\n",
              "      <td>50+</td>\n",
              "      <td>27.303666666666672</td>\n",
              "      <td>27.376666666666672</td>\n",
              "      <td>29.874000000000002</td>\n",
              "    </tr>\n",
              "  </tbody>\n",
              "</table>\n",
              "</div>\n",
              "      <button class=\"colab-df-convert\" onclick=\"convertToInteractive('df-fe5a0e41-52ea-4373-805a-8e30c3507521')\"\n",
              "              title=\"Convert this dataframe to an interactive table.\"\n",
              "              style=\"display:none;\">\n",
              "        \n",
              "  <svg xmlns=\"http://www.w3.org/2000/svg\" height=\"24px\"viewBox=\"0 0 24 24\"\n",
              "       width=\"24px\">\n",
              "    <path d=\"M0 0h24v24H0V0z\" fill=\"none\"/>\n",
              "    <path d=\"M18.56 5.44l.94 2.06.94-2.06 2.06-.94-2.06-.94-.94-2.06-.94 2.06-2.06.94zm-11 1L8.5 8.5l.94-2.06 2.06-.94-2.06-.94L8.5 2.5l-.94 2.06-2.06.94zm10 10l.94 2.06.94-2.06 2.06-.94-2.06-.94-.94-2.06-.94 2.06-2.06.94z\"/><path d=\"M17.41 7.96l-1.37-1.37c-.4-.4-.92-.59-1.43-.59-.52 0-1.04.2-1.43.59L10.3 9.45l-7.72 7.72c-.78.78-.78 2.05 0 2.83L4 21.41c.39.39.9.59 1.41.59.51 0 1.02-.2 1.41-.59l7.78-7.78 2.81-2.81c.8-.78.8-2.07 0-2.86zM5.41 20L4 18.59l7.72-7.72 1.47 1.35L5.41 20z\"/>\n",
              "  </svg>\n",
              "      </button>\n",
              "      \n",
              "  <style>\n",
              "    .colab-df-container {\n",
              "      display:flex;\n",
              "      flex-wrap:wrap;\n",
              "      gap: 12px;\n",
              "    }\n",
              "\n",
              "    .colab-df-convert {\n",
              "      background-color: #E8F0FE;\n",
              "      border: none;\n",
              "      border-radius: 50%;\n",
              "      cursor: pointer;\n",
              "      display: none;\n",
              "      fill: #1967D2;\n",
              "      height: 32px;\n",
              "      padding: 0 0 0 0;\n",
              "      width: 32px;\n",
              "    }\n",
              "\n",
              "    .colab-df-convert:hover {\n",
              "      background-color: #E2EBFA;\n",
              "      box-shadow: 0px 1px 2px rgba(60, 64, 67, 0.3), 0px 1px 3px 1px rgba(60, 64, 67, 0.15);\n",
              "      fill: #174EA6;\n",
              "    }\n",
              "\n",
              "    [theme=dark] .colab-df-convert {\n",
              "      background-color: #3B4455;\n",
              "      fill: #D2E3FC;\n",
              "    }\n",
              "\n",
              "    [theme=dark] .colab-df-convert:hover {\n",
              "      background-color: #434B5C;\n",
              "      box-shadow: 0px 1px 3px 1px rgba(0, 0, 0, 0.15);\n",
              "      filter: drop-shadow(0px 1px 2px rgba(0, 0, 0, 0.3));\n",
              "      fill: #FFFFFF;\n",
              "    }\n",
              "  </style>\n",
              "\n",
              "      <script>\n",
              "        const buttonEl =\n",
              "          document.querySelector('#df-fe5a0e41-52ea-4373-805a-8e30c3507521 button.colab-df-convert');\n",
              "        buttonEl.style.display =\n",
              "          google.colab.kernel.accessAllowed ? 'block' : 'none';\n",
              "\n",
              "        async function convertToInteractive(key) {\n",
              "          const element = document.querySelector('#df-fe5a0e41-52ea-4373-805a-8e30c3507521');\n",
              "          const dataTable =\n",
              "            await google.colab.kernel.invokeFunction('convertToInteractive',\n",
              "                                                     [key], {});\n",
              "          if (!dataTable) return;\n",
              "\n",
              "          const docLinkHtml = 'Like what you see? Visit the ' +\n",
              "            '<a target=\"_blank\" href=https://colab.research.google.com/notebooks/data_table.ipynb>data table notebook</a>'\n",
              "            + ' to learn more about interactive tables.';\n",
              "          element.innerHTML = '';\n",
              "          dataTable['output_type'] = 'display_data';\n",
              "          await google.colab.output.renderOutput(dataTable, element);\n",
              "          const docLink = document.createElement('div');\n",
              "          docLink.innerHTML = docLinkHtml;\n",
              "          element.appendChild(docLink);\n",
              "        }\n",
              "      </script>\n",
              "    </div>\n",
              "  </div>\n",
              "  "
            ],
            "text/plain": [
              "     age  ... optical inspection-occipital\n",
              "0  10~19  ...            29.09942857142857\n",
              "1  20~29  ...            29.76120788530475\n",
              "2  30~39  ...            30.17142541436464\n",
              "3  40~49  ...            30.04425925925926\n",
              "4    50+  ...           29.874000000000002\n",
              "\n",
              "[5 rows x 4 columns]"
            ]
          },
          "metadata": {},
          "execution_count": 98
        }
      ]
    },
    {
      "cell_type": "markdown",
      "source": [
        "자세히 보기위해 이것에 대한 box plot을 그려보았다."
      ],
      "metadata": {
        "id": "lyX1KoMlbSgY"
      }
    },
    {
      "cell_type": "code",
      "source": [
        "fig,ax = plt.subplots(1,3,figsize=(14,5))\n",
        "\n",
        "sns.boxplot(x='age',\n",
        "            y=front,\n",
        "            data=df,\n",
        "            ax=ax[0])\n",
        "sns.boxplot(x='age',\n",
        "            y=center,\n",
        "            data=df,\n",
        "            ax=ax[1])\n",
        "sns.boxplot(x='age',\n",
        "            y=occipital,\n",
        "            data=df,\n",
        "            ax=ax[2])\n",
        "ax[0].set_title('FRONT')\n",
        "ax[1].set_title('CENTER')\n",
        "ax[2].set_title('occipital')\n",
        "plt.show()"
      ],
      "metadata": {
        "colab": {
          "base_uri": "https://localhost:8080/",
          "height": 350
        },
        "id": "lpY0mCGfaSgO",
        "outputId": "817edcd0-7fef-4db6-9951-3c91f7c07a06"
      },
      "execution_count": 99,
      "outputs": [
        {
          "output_type": "display_data",
          "data": {
            "image/png": "[encoded data removed]",
            "text/plain": [
              "<Figure size 1008x360 with 3 Axes>"
            ]
          },
          "metadata": {
            "needs_background": "light"
          }
        }
      ]
    },
    {
      "cell_type": "markdown",
      "source": [
        "**라이프 스타일**\n",
        "\n",
        "외부적 요인, 내부적 요인, 영양상태에 대한 통계이며, 오른쪽 하단 histplot은 각각의 사람에 대한 외부적 요인, 내부적 요인, 영양상태의 평균값을 나타낸다. \n",
        "\n",
        "아래의 자료를 볼때, 각기 다른 라이프 스타일을 가지고 있다. 평범하게 일상을 보내는 사람들은 보통 50-80수치를 가진 사람들이 많이 나타난다. 이 점을 보아 라이프 스타일에 탈모가 미치는 영향이 없다고 볼 수는 없지만 그렇게 크게 영향을 끼치지는 않는 것 처럼 보인다.."
      ],
      "metadata": {
        "id": "d7IWSMDbE8gY"
      }
    },
    {
      "cell_type": "code",
      "source": [
        "import seaborn as sns\n",
        "# subplot들을 만든다.\n",
        "fig,ax = plt.subplots(2,2,figsize=(15,8))\n",
        "attribute1='life style - external factors'\n",
        "attribute2='life style-internal factor'\n",
        "attribute3='life style - nutritional status'\n",
        "totattribute='life style - total'\n",
        "\n",
        "# 각각의 subplot에 histplot으로 데이터를 채워준다.\n",
        "sns.histplot(data=df,x=attribute1,color = \"purple\",ax=ax[0,0])\n",
        "sns.histplot(data=df,x=attribute2,color = \"blue\", ax=ax[0,1])\n",
        "sns.histplot(data=df,x=attribute3,color = \"green\", ax=ax[1,0])\n",
        "sns.histplot(data=df,x=totattribute,color = \"red\", ax=ax[1,1])\n",
        "\n"
      ],
      "metadata": {
        "colab": {
          "base_uri": "https://localhost:8080/",
          "height": 484
        },
        "id": "eNp9xxkKFG4s",
        "outputId": "2892462d-06b4-4240-94c7-d95685cef3bd"
      },
      "execution_count": 100,
      "outputs": [
        {
          "output_type": "execute_result",
          "data": {
            "text/plain": [
              "<matplotlib.axes._subplots.AxesSubplot at 0x7fa94e9d6910>"
            ]
          },
          "metadata": {},
          "execution_count": 100
        },
        {
          "output_type": "display_data",
          "data": {
            "image/png": "[encoded data removed]",
            "text/plain": [
              "<Figure size 1080x576 with 4 Axes>"
            ]
          },
          "metadata": {
            "needs_background": "light"
          }
        }
      ]
    },
    {
      "cell_type": "markdown",
      "source": [
        "**외부적 요인, 내부적 요인, 영양 상태에 대한 평균**\n",
        "\n",
        "더 자세히 보기 위해 외부적 요인, 내부적 요인, 영양상태에 대한 각각의 평균을 추려보았다.\n",
        "\n",
        "각각의 평균을 보게되면 각각 외부적요인은 67.51863560732104, 내부적 요인은 67.80836106489187, 영양상태는 49.57114093959732의 추치를 가지고 있다. 이 데이터를 가지고 각각의 수치에 대한 평균을 보았을 때 외부적 요인, 내부적 요인에 대해 탈모는 크게 영향을 주는 것 같지 않은 것 처럼 보인다. 그러나 영양상태는 49.57114093959732로 빈약한 수치를 나타내는 것으로 보인다. 이점으로 보아, 영양상태는 탈모에 영향을 어느정도 끼치는 것으로 보인다."
      ],
      "metadata": {
        "id": "ZMOgeh8F27-2"
      }
    },
    {
      "cell_type": "code",
      "source": [
        "# 외부적 요인에 대한 평균\n",
        "externmean=df[attribute1].mean()\n",
        "externmean"
      ],
      "metadata": {
        "colab": {
          "base_uri": "https://localhost:8080/"
        },
        "id": "HRhlEAMy2Wss",
        "outputId": "2e445730-7474-4cff-8a88-1580ae1189a6"
      },
      "execution_count": 101,
      "outputs": [
        {
          "output_type": "execute_result",
          "data": {
            "text/plain": [
              "67.51863560732104"
            ]
          },
          "metadata": {},
          "execution_count": 101
        }
      ]
    },
    {
      "cell_type": "code",
      "source": [
        "#내부적요인에 대한 평균\n",
        "internmean=df[attribute2].mean()\n",
        "internmean"
      ],
      "metadata": {
        "colab": {
          "base_uri": "https://localhost:8080/"
        },
        "id": "wcCnSBnO2uY8",
        "outputId": "bcb0b28c-7f4f-4d1f-99bc-57a0b298ef11"
      },
      "execution_count": 102,
      "outputs": [
        {
          "output_type": "execute_result",
          "data": {
            "text/plain": [
              "67.80836106489187"
            ]
          },
          "metadata": {},
          "execution_count": 102
        }
      ]
    },
    {
      "cell_type": "code",
      "source": [
        "#영양 상태에 대한평균\n",
        "nutritionalmean=df[attribute3].mean()\n",
        "nutritionalmean"
      ],
      "metadata": {
        "colab": {
          "base_uri": "https://localhost:8080/"
        },
        "id": "rlgCl-8T21ko",
        "outputId": "79585b50-497f-4ab9-fa63-6784f92c6903"
      },
      "execution_count": 103,
      "outputs": [
        {
          "output_type": "execute_result",
          "data": {
            "text/plain": [
              "49.57114093959732"
            ]
          },
          "metadata": {},
          "execution_count": 103
        }
      ]
    },
    {
      "cell_type": "markdown",
      "source": [
        "이것을 한눈에 보기위해 barplot으로 그려보았다.\n",
        "\n",
        "참조 (https://rfriend.tistory.com/411) "
      ],
      "metadata": {
        "id": "d_oJH9ru4QQv"
      }
    },
    {
      "cell_type": "code",
      "source": [
        "y=[externmean,internmean,nutritionalmean]\n",
        "x=['externmean','internmean','nutritionalmean']\n",
        "\n",
        "\n",
        "plt.barh(x,y)\n",
        "plt.title('mean of them',fontsize=25)\n",
        "plt.xlabel('life style')\n",
        "plt.ylabel('mean')\n",
        "\n",
        "plt.show()"
      ],
      "metadata": {
        "colab": {
          "base_uri": "https://localhost:8080/",
          "height": 304
        },
        "id": "uocj6DF64PNE",
        "outputId": "bbf480a4-2faa-49d0-af4f-4687ab4a421a"
      },
      "execution_count": 104,
      "outputs": [
        {
          "output_type": "display_data",
          "data": {
            "image/png": "[encoded data removed]",
            "text/plain": [
              "<Figure size 432x288 with 1 Axes>"
            ]
          },
          "metadata": {
            "needs_background": "light"
          }
        }
      ]
    },
    {
      "cell_type": "markdown",
      "source": [
        "라이프 스타일에 관하여 **하루에 담배 반갑이상 피는 사람**과 **술을 일주일에 3-5번 마시는 사람의 비율**을 조사해 보았다.\n",
        "\n",
        "담배 데이터와 술 데이터 두개 다 총615명중 379명이 설문에 참여해 주었다."
      ],
      "metadata": {
        "id": "NIIVl9gMhay_"
      }
    },
    {
      "cell_type": "code",
      "source": [
        "#술에 대한 예외처리\n",
        "drink_data = df['Drink more than five drinks, three times a week'].dropna(axis=0)\n",
        "\n",
        "drink_data"
      ],
      "metadata": {
        "colab": {
          "base_uri": "https://localhost:8080/"
        },
        "id": "XLIvQXdOo4B3",
        "outputId": "355b961c-05be-4904-8155-0a0dc7d417ee"
      },
      "execution_count": 105,
      "outputs": [
        {
          "output_type": "execute_result",
          "data": {
            "text/plain": [
              "233    YES\n",
              "234     NO\n",
              "236    YES\n",
              "237     NO\n",
              "239     NO\n",
              "      ... \n",
              "610     NO\n",
              "611     NO\n",
              "612     NO\n",
              "613     NO\n",
              "614    YES\n",
              "Name: Drink more than five drinks, three times a week, Length: 379, dtype: object"
            ]
          },
          "metadata": {},
          "execution_count": 105
        }
      ]
    },
    {
      "cell_type": "code",
      "source": [
        "#담배에 대한 예외처리\n",
        "smoke_data = df['I smoke more than half a pack a cigarette'].dropna(axis=0)\n",
        "\n",
        "smoke_data"
      ],
      "metadata": {
        "colab": {
          "base_uri": "https://localhost:8080/"
        },
        "id": "irKBiGczo5Sg",
        "outputId": "549e0e07-77a0-474d-83f9-d0336f54e2b1"
      },
      "execution_count": 106,
      "outputs": [
        {
          "output_type": "execute_result",
          "data": {
            "text/plain": [
              "233     NO\n",
              "234    YES\n",
              "236    YES\n",
              "237     NO\n",
              "239     NO\n",
              "      ... \n",
              "610     NO\n",
              "611     NO\n",
              "612    YES\n",
              "613     NO\n",
              "614     NO\n",
              "Name: I smoke more than half a pack a cigarette, Length: 379, dtype: object"
            ]
          },
          "metadata": {},
          "execution_count": 106
        }
      ]
    },
    {
      "cell_type": "markdown",
      "source": [
        "plot참조(https://soooprmx.com/matplotlib%EC%9D%98-%EA%B8%B0%EB%B3%B8-%EC%82%AC%EC%9A%A9%EB%B2%95-%EB%B0%8F-%EB%8B%A4%EB%A5%B8-%EC%8B%9C%EA%B0%81%ED%99%94-%EB%9D%BC%EC%9D%B4%EB%B8%8C%EB%9F%AC%EB%A6%AC/)\n",
        "\n",
        "\n",
        "두개의 PIE PLOT을 보면 우선 일주일에 3번에서5번 술을 마시는 사람은 19.3%이고, 가끔 그렇게 먹는사람은 0.5%, 3~5번 미만으로 먹는 사람은 80.2%이다. 그리고 하루에 담배 반갑이상 피는 사람은 18.7%이고, 그렇지 않은 사람은 81.3%이다. 이 결과를 보게되면 술과 담배가 탈모에 직접적인 영향을 끼치지못하는 것을 예측 할 수 있다."
      ],
      "metadata": {
        "id": "wSiv7ynZAepL"
      }
    },
    {
      "cell_type": "code",
      "source": [
        "drink = df['Drink more than five drinks, three times a week'].dropna(axis=0).value_counts(normalize =True)\n",
        "smoke = df['I smoke more than half a pack a cigarette'].dropna(axis=0).value_counts(normalize =True)\n",
        "\n",
        "#PIE PLOT을 SUB PLOT들을 이용하여 그려보았다.\n",
        "fig,ax = plt.subplots(1,2,figsize=(15,8)) \n",
        "\n",
        "ax[0].pie(x=drink,labels=drink.index,autopct=\"%1.1f%%\")\n",
        "ax[0].set_title('About Drink',fontsize=17)\n",
        "ax[1].pie(x=smoke,labels=smoke.index,autopct=\"%1.1f%%\")\n",
        "ax[1].set_title('About smoke',fontsize=17)\n"
      ],
      "metadata": {
        "colab": {
          "base_uri": "https://localhost:8080/",
          "height": 443
        },
        "id": "jgE-djQxhl4o",
        "outputId": "10e76392-0d5e-4b42-8486-640c37d9445f"
      },
      "execution_count": 107,
      "outputs": [
        {
          "output_type": "execute_result",
          "data": {
            "text/plain": [
              "Text(0.5, 1.0, 'About smoke')"
            ]
          },
          "metadata": {},
          "execution_count": 107
        },
        {
          "output_type": "display_data",
          "data": {
            "image/png": "[encoded data removed]",
            "text/plain": [
              "<Figure size 1080x576 with 2 Axes>"
            ]
          },
          "metadata": {}
        }
      ]
    },
    {
      "cell_type": "markdown",
      "source": [
        "**탈모 가족력에 대한 분석**"
      ],
      "metadata": {
        "id": "9Dg2F6ZSoT1X"
      }
    },
    {
      "cell_type": "markdown",
      "source": [
        "탈모 가족력 데이터"
      ],
      "metadata": {
        "id": "8IUO3h9q1LoU"
      }
    },
    {
      "cell_type": "code",
      "source": [
        "#탈모 가족력에 대한 데이터이다.\n",
        "df['가족탈모 여부']"
      ],
      "metadata": {
        "colab": {
          "base_uri": "https://localhost:8080/"
        },
        "id": "FaZuafmxz73z",
        "outputId": "d4ab4d93-7399-4189-d0e8-323a822fc657"
      },
      "execution_count": 108,
      "outputs": [
        {
          "output_type": "execute_result",
          "data": {
            "text/plain": [
              "0              NaN\n",
              "1              NaN\n",
              "2              NaN\n",
              "3              NaN\n",
              "4              NaN\n",
              "          ...     \n",
              "610    mother side\n",
              "611             no\n",
              "612           both\n",
              "613             no\n",
              "614    father side\n",
              "Name: 가족탈모 여부, Length: 615, dtype: object"
            ]
          },
          "metadata": {},
          "execution_count": 108
        }
      ]
    },
    {
      "cell_type": "markdown",
      "source": [
        "**탈모 가족력에 대해 예외 처리한 부분**\n",
        "\n",
        "\n",
        "\n",
        "예외 처리 결과 총 615명의 대상중 379명 만이 이 항목에 대해 설문참여를 해주었다.\n",
        "\n",
        "이 자료에서 알아야 하는 것은 father side는 아버지쪽 사촌까지 다 포함 하고있고, mother side는 어머니쪽 사촌까지 다 포함 하고있다. 그러나 몇대까지(위로 할아버지 할머니 그 이상을 포함하는지)의 자료인지는 정확히 모르기 때문에 이자료를 완전히 신뢰 할 수는 없다."
      ],
      "metadata": {
        "id": "K_sFwnFV1HtS"
      }
    },
    {
      "cell_type": "code",
      "source": [
        "# 탈모 가족력에 대한 NAN값을 예외처리 한다. \n",
        "familyhairloss = df['가족탈모 여부'].dropna(axis=0)\n",
        "familyhairloss"
      ],
      "metadata": {
        "colab": {
          "base_uri": "https://localhost:8080/"
        },
        "id": "2wn6jfg_guGK",
        "outputId": "e97e8fab-0153-4e9d-88b2-995cd1fd72b2"
      },
      "execution_count": 109,
      "outputs": [
        {
          "output_type": "execute_result",
          "data": {
            "text/plain": [
              "233             no\n",
              "234    mother side\n",
              "236    father side\n",
              "237             no\n",
              "239    father side\n",
              "          ...     \n",
              "610    mother side\n",
              "611             no\n",
              "612           both\n",
              "613             no\n",
              "614    father side\n",
              "Name: 가족탈모 여부, Length: 379, dtype: object"
            ]
          },
          "metadata": {},
          "execution_count": 109
        }
      ]
    },
    {
      "cell_type": "markdown",
      "source": [
        "참조 (https://datascienceschool.net/01%20python/05.04%20%EC%8B%9C%EB%B3%B8%EC%9D%84%20%EC%82%AC%EC%9A%A9%ED%95%9C%20%EB%8D%B0%EC%9D%B4%ED%84%B0%20%EB%B6%84%ED%8F%AC%20%EC%8B%9C%EA%B0%81%ED%99%94.html)\n",
        "\n",
        "자세히 보기위해 plot을 그려주었다.\n",
        "\n",
        "plot을 보게되면 탈모 보유자중 가족력이 없는 경우도 있지만 탈모 가족력이 있는 데이터들을 합치면 탈모 가족력이 없는 데이터의 2배정도 되는 것으로 보인다. 이 데이터로 보았을 때, 가족에 탈모가 있을 경우 본인도 탈모가 있을 확률이 있는 것으로 보인다. \n",
        "\n",
        "다시한번 말하지만 이 자료는 위로 몇대까지 탈모가 있는지 수집한 자료가 아니므로 설득력은 떨어지지만 당장 아버지쪽, 어머니쪽 사촌까지의 자료만 보아도 가족에 탈모가 있으면 본인도 탈모발생을 할 수 있는 확률이 있다고 볼 수 있다."
      ],
      "metadata": {
        "id": "99M93Ggpcwem"
      }
    },
    {
      "cell_type": "code",
      "source": [
        "x=familyhairloss.index\n",
        "\n",
        "#countplot을 활용하여 값별로\n",
        "sns.countplot(x=x,data=familyhairloss)\n",
        "plt.title('family hairloss',fontsize=25)\n",
        "plt.xlabel('family have')\n",
        "plt.ylabel('count')\n",
        "\n",
        "plt.show()"
      ],
      "metadata": {
        "colab": {
          "base_uri": "https://localhost:8080/",
          "height": 304
        },
        "id": "gUzi4aIZ1PkT",
        "outputId": "2fed1cb5-4456-457f-dea9-bf600fa93eee"
      },
      "execution_count": 110,
      "outputs": [
        {
          "output_type": "display_data",
          "data": {
            "image/png": "[encoded data removed]",
            "text/plain": [
              "<Figure size 432x288 with 1 Axes>"
            ]
          },
          "metadata": {
            "needs_background": "light"
          }
        }
      ]
    },
    {
      "cell_type": "markdown",
      "source": [
        "이것을 Naive Bayes를 이용하여 머신러닝을 해보았다."
      ],
      "metadata": {
        "id": "z9QOixlE8ORg"
      }
    },
    {
      "cell_type": "markdown",
      "source": [
        "데이터 프레임을 추출해준다."
      ],
      "metadata": {
        "id": "WyqumRxwLyhp"
      }
    },
    {
      "cell_type": "code",
      "source": [
        "df_1=df[['가족탈모 여부','optical inspection-hairloss']]\n",
        "df_1.head()"
      ],
      "metadata": {
        "id": "PH1FQfsc89ue",
        "outputId": "a125f50b-bbef-4f72-8988-535f9e9a424c",
        "colab": {
          "base_uri": "https://localhost:8080/",
          "height": 206
        }
      },
      "execution_count": 111,
      "outputs": [
        {
          "output_type": "execute_result",
          "data": {
            "text/html": [
              "\n",
              "  <div id=\"df-cbeb20d1-3bf8-4e52-88b6-f4d86ef7a0bf\">\n",
              "    <div class=\"colab-df-container\">\n",
              "      <div>\n",
              "<style scoped>\n",
              "    .dataframe tbody tr th:only-of-type {\n",
              "        vertical-align: middle;\n",
              "    }\n",
              "\n",
              "    .dataframe tbody tr th {\n",
              "        vertical-align: top;\n",
              "    }\n",
              "\n",
              "    .dataframe thead th {\n",
              "        text-align: right;\n",
              "    }\n",
              "</style>\n",
              "<table border=\"1\" class=\"dataframe\">\n",
              "  <thead>\n",
              "    <tr style=\"text-align: right;\">\n",
              "      <th></th>\n",
              "      <th>가족탈모 여부</th>\n",
              "      <th>optical inspection-hairloss</th>\n",
              "    </tr>\n",
              "  </thead>\n",
              "  <tbody>\n",
              "    <tr>\n",
              "      <th>0</th>\n",
              "      <td>NaN</td>\n",
              "      <td>15.680000</td>\n",
              "    </tr>\n",
              "    <tr>\n",
              "      <th>1</th>\n",
              "      <td>NaN</td>\n",
              "      <td>0.000000</td>\n",
              "    </tr>\n",
              "    <tr>\n",
              "      <th>2</th>\n",
              "      <td>NaN</td>\n",
              "      <td>0.000000</td>\n",
              "    </tr>\n",
              "    <tr>\n",
              "      <th>3</th>\n",
              "      <td>NaN</td>\n",
              "      <td>0.951746</td>\n",
              "    </tr>\n",
              "    <tr>\n",
              "      <th>4</th>\n",
              "      <td>NaN</td>\n",
              "      <td>0.000000</td>\n",
              "    </tr>\n",
              "  </tbody>\n",
              "</table>\n",
              "</div>\n",
              "      <button class=\"colab-df-convert\" onclick=\"convertToInteractive('df-cbeb20d1-3bf8-4e52-88b6-f4d86ef7a0bf')\"\n",
              "              title=\"Convert this dataframe to an interactive table.\"\n",
              "              style=\"display:none;\">\n",
              "        \n",
              "  <svg xmlns=\"http://www.w3.org/2000/svg\" height=\"24px\"viewBox=\"0 0 24 24\"\n",
              "       width=\"24px\">\n",
              "    <path d=\"M0 0h24v24H0V0z\" fill=\"none\"/>\n",
              "    <path d=\"M18.56 5.44l.94 2.06.94-2.06 2.06-.94-2.06-.94-.94-2.06-.94 2.06-2.06.94zm-11 1L8.5 8.5l.94-2.06 2.06-.94-2.06-.94L8.5 2.5l-.94 2.06-2.06.94zm10 10l.94 2.06.94-2.06 2.06-.94-2.06-.94-.94-2.06-.94 2.06-2.06.94z\"/><path d=\"M17.41 7.96l-1.37-1.37c-.4-.4-.92-.59-1.43-.59-.52 0-1.04.2-1.43.59L10.3 9.45l-7.72 7.72c-.78.78-.78 2.05 0 2.83L4 21.41c.39.39.9.59 1.41.59.51 0 1.02-.2 1.41-.59l7.78-7.78 2.81-2.81c.8-.78.8-2.07 0-2.86zM5.41 20L4 18.59l7.72-7.72 1.47 1.35L5.41 20z\"/>\n",
              "  </svg>\n",
              "      </button>\n",
              "      \n",
              "  <style>\n",
              "    .colab-df-container {\n",
              "      display:flex;\n",
              "      flex-wrap:wrap;\n",
              "      gap: 12px;\n",
              "    }\n",
              "\n",
              "    .colab-df-convert {\n",
              "      background-color: #E8F0FE;\n",
              "      border: none;\n",
              "      border-radius: 50%;\n",
              "      cursor: pointer;\n",
              "      display: none;\n",
              "      fill: #1967D2;\n",
              "      height: 32px;\n",
              "      padding: 0 0 0 0;\n",
              "      width: 32px;\n",
              "    }\n",
              "\n",
              "    .colab-df-convert:hover {\n",
              "      background-color: #E2EBFA;\n",
              "      box-shadow: 0px 1px 2px rgba(60, 64, 67, 0.3), 0px 1px 3px 1px rgba(60, 64, 67, 0.15);\n",
              "      fill: #174EA6;\n",
              "    }\n",
              "\n",
              "    [theme=dark] .colab-df-convert {\n",
              "      background-color: #3B4455;\n",
              "      fill: #D2E3FC;\n",
              "    }\n",
              "\n",
              "    [theme=dark] .colab-df-convert:hover {\n",
              "      background-color: #434B5C;\n",
              "      box-shadow: 0px 1px 3px 1px rgba(0, 0, 0, 0.15);\n",
              "      filter: drop-shadow(0px 1px 2px rgba(0, 0, 0, 0.3));\n",
              "      fill: #FFFFFF;\n",
              "    }\n",
              "  </style>\n",
              "\n",
              "      <script>\n",
              "        const buttonEl =\n",
              "          document.querySelector('#df-cbeb20d1-3bf8-4e52-88b6-f4d86ef7a0bf button.colab-df-convert');\n",
              "        buttonEl.style.display =\n",
              "          google.colab.kernel.accessAllowed ? 'block' : 'none';\n",
              "\n",
              "        async function convertToInteractive(key) {\n",
              "          const element = document.querySelector('#df-cbeb20d1-3bf8-4e52-88b6-f4d86ef7a0bf');\n",
              "          const dataTable =\n",
              "            await google.colab.kernel.invokeFunction('convertToInteractive',\n",
              "                                                     [key], {});\n",
              "          if (!dataTable) return;\n",
              "\n",
              "          const docLinkHtml = 'Like what you see? Visit the ' +\n",
              "            '<a target=\"_blank\" href=https://colab.research.google.com/notebooks/data_table.ipynb>data table notebook</a>'\n",
              "            + ' to learn more about interactive tables.';\n",
              "          element.innerHTML = '';\n",
              "          dataTable['output_type'] = 'display_data';\n",
              "          await google.colab.output.renderOutput(dataTable, element);\n",
              "          const docLink = document.createElement('div');\n",
              "          docLink.innerHTML = docLinkHtml;\n",
              "          element.appendChild(docLink);\n",
              "        }\n",
              "      </script>\n",
              "    </div>\n",
              "  </div>\n",
              "  "
            ],
            "text/plain": [
              "  가족탈모 여부  optical inspection-hairloss\n",
              "0     NaN                    15.680000\n",
              "1     NaN                     0.000000\n",
              "2     NaN                     0.000000\n",
              "3     NaN                     0.951746\n",
              "4     NaN                     0.000000"
            ]
          },
          "metadata": {},
          "execution_count": 111
        }
      ]
    },
    {
      "cell_type": "markdown",
      "source": [
        "결측값을 예외처리 해준다."
      ],
      "metadata": {
        "id": "jzqbkfbZL2jY"
      }
    },
    {
      "cell_type": "code",
      "source": [
        "df_2=df_1.dropna(axis='rows')\n",
        "df_2"
      ],
      "metadata": {
        "id": "ThsD6MyCEMUI",
        "outputId": "9849c30a-826c-42eb-998d-1d898e592b9a",
        "colab": {
          "base_uri": "https://localhost:8080/",
          "height": 424
        }
      },
      "execution_count": 112,
      "outputs": [
        {
          "output_type": "execute_result",
          "data": {
            "text/html": [
              "\n",
              "  <div id=\"df-9d8f7ba4-e419-4bd6-9e15-81856a41643b\">\n",
              "    <div class=\"colab-df-container\">\n",
              "      <div>\n",
              "<style scoped>\n",
              "    .dataframe tbody tr th:only-of-type {\n",
              "        vertical-align: middle;\n",
              "    }\n",
              "\n",
              "    .dataframe tbody tr th {\n",
              "        vertical-align: top;\n",
              "    }\n",
              "\n",
              "    .dataframe thead th {\n",
              "        text-align: right;\n",
              "    }\n",
              "</style>\n",
              "<table border=\"1\" class=\"dataframe\">\n",
              "  <thead>\n",
              "    <tr style=\"text-align: right;\">\n",
              "      <th></th>\n",
              "      <th>가족탈모 여부</th>\n",
              "      <th>optical inspection-hairloss</th>\n",
              "    </tr>\n",
              "  </thead>\n",
              "  <tbody>\n",
              "    <tr>\n",
              "      <th>233</th>\n",
              "      <td>no</td>\n",
              "      <td>23.36</td>\n",
              "    </tr>\n",
              "    <tr>\n",
              "      <th>234</th>\n",
              "      <td>mother side</td>\n",
              "      <td>30.24</td>\n",
              "    </tr>\n",
              "    <tr>\n",
              "      <th>236</th>\n",
              "      <td>father side</td>\n",
              "      <td>34.24</td>\n",
              "    </tr>\n",
              "    <tr>\n",
              "      <th>237</th>\n",
              "      <td>no</td>\n",
              "      <td>28.64</td>\n",
              "    </tr>\n",
              "    <tr>\n",
              "      <th>239</th>\n",
              "      <td>father side</td>\n",
              "      <td>22.24</td>\n",
              "    </tr>\n",
              "    <tr>\n",
              "      <th>...</th>\n",
              "      <td>...</td>\n",
              "      <td>...</td>\n",
              "    </tr>\n",
              "    <tr>\n",
              "      <th>610</th>\n",
              "      <td>mother side</td>\n",
              "      <td>10.18</td>\n",
              "    </tr>\n",
              "    <tr>\n",
              "      <th>611</th>\n",
              "      <td>no</td>\n",
              "      <td>25.96</td>\n",
              "    </tr>\n",
              "    <tr>\n",
              "      <th>612</th>\n",
              "      <td>both</td>\n",
              "      <td>14.96</td>\n",
              "    </tr>\n",
              "    <tr>\n",
              "      <th>613</th>\n",
              "      <td>no</td>\n",
              "      <td>16.88</td>\n",
              "    </tr>\n",
              "    <tr>\n",
              "      <th>614</th>\n",
              "      <td>father side</td>\n",
              "      <td>17.06</td>\n",
              "    </tr>\n",
              "  </tbody>\n",
              "</table>\n",
              "<p>379 rows × 2 columns</p>\n",
              "</div>\n",
              "      <button class=\"colab-df-convert\" onclick=\"convertToInteractive('df-9d8f7ba4-e419-4bd6-9e15-81856a41643b')\"\n",
              "              title=\"Convert this dataframe to an interactive table.\"\n",
              "              style=\"display:none;\">\n",
              "        \n",
              "  <svg xmlns=\"http://www.w3.org/2000/svg\" height=\"24px\"viewBox=\"0 0 24 24\"\n",
              "       width=\"24px\">\n",
              "    <path d=\"M0 0h24v24H0V0z\" fill=\"none\"/>\n",
              "    <path d=\"M18.56 5.44l.94 2.06.94-2.06 2.06-.94-2.06-.94-.94-2.06-.94 2.06-2.06.94zm-11 1L8.5 8.5l.94-2.06 2.06-.94-2.06-.94L8.5 2.5l-.94 2.06-2.06.94zm10 10l.94 2.06.94-2.06 2.06-.94-2.06-.94-.94-2.06-.94 2.06-2.06.94z\"/><path d=\"M17.41 7.96l-1.37-1.37c-.4-.4-.92-.59-1.43-.59-.52 0-1.04.2-1.43.59L10.3 9.45l-7.72 7.72c-.78.78-.78 2.05 0 2.83L4 21.41c.39.39.9.59 1.41.59.51 0 1.02-.2 1.41-.59l7.78-7.78 2.81-2.81c.8-.78.8-2.07 0-2.86zM5.41 20L4 18.59l7.72-7.72 1.47 1.35L5.41 20z\"/>\n",
              "  </svg>\n",
              "      </button>\n",
              "      \n",
              "  <style>\n",
              "    .colab-df-container {\n",
              "      display:flex;\n",
              "      flex-wrap:wrap;\n",
              "      gap: 12px;\n",
              "    }\n",
              "\n",
              "    .colab-df-convert {\n",
              "      background-color: #E8F0FE;\n",
              "      border: none;\n",
              "      border-radius: 50%;\n",
              "      cursor: pointer;\n",
              "      display: none;\n",
              "      fill: #1967D2;\n",
              "      height: 32px;\n",
              "      padding: 0 0 0 0;\n",
              "      width: 32px;\n",
              "    }\n",
              "\n",
              "    .colab-df-convert:hover {\n",
              "      background-color: #E2EBFA;\n",
              "      box-shadow: 0px 1px 2px rgba(60, 64, 67, 0.3), 0px 1px 3px 1px rgba(60, 64, 67, 0.15);\n",
              "      fill: #174EA6;\n",
              "    }\n",
              "\n",
              "    [theme=dark] .colab-df-convert {\n",
              "      background-color: #3B4455;\n",
              "      fill: #D2E3FC;\n",
              "    }\n",
              "\n",
              "    [theme=dark] .colab-df-convert:hover {\n",
              "      background-color: #434B5C;\n",
              "      box-shadow: 0px 1px 3px 1px rgba(0, 0, 0, 0.15);\n",
              "      filter: drop-shadow(0px 1px 2px rgba(0, 0, 0, 0.3));\n",
              "      fill: #FFFFFF;\n",
              "    }\n",
              "  </style>\n",
              "\n",
              "      <script>\n",
              "        const buttonEl =\n",
              "          document.querySelector('#df-9d8f7ba4-e419-4bd6-9e15-81856a41643b button.colab-df-convert');\n",
              "        buttonEl.style.display =\n",
              "          google.colab.kernel.accessAllowed ? 'block' : 'none';\n",
              "\n",
              "        async function convertToInteractive(key) {\n",
              "          const element = document.querySelector('#df-9d8f7ba4-e419-4bd6-9e15-81856a41643b');\n",
              "          const dataTable =\n",
              "            await google.colab.kernel.invokeFunction('convertToInteractive',\n",
              "                                                     [key], {});\n",
              "          if (!dataTable) return;\n",
              "\n",
              "          const docLinkHtml = 'Like what you see? Visit the ' +\n",
              "            '<a target=\"_blank\" href=https://colab.research.google.com/notebooks/data_table.ipynb>data table notebook</a>'\n",
              "            + ' to learn more about interactive tables.';\n",
              "          element.innerHTML = '';\n",
              "          dataTable['output_type'] = 'display_data';\n",
              "          await google.colab.output.renderOutput(dataTable, element);\n",
              "          const docLink = document.createElement('div');\n",
              "          docLink.innerHTML = docLinkHtml;\n",
              "          element.appendChild(docLink);\n",
              "        }\n",
              "      </script>\n",
              "    </div>\n",
              "  </div>\n",
              "  "
            ],
            "text/plain": [
              "         가족탈모 여부  optical inspection-hairloss\n",
              "233           no                        23.36\n",
              "234  mother side                        30.24\n",
              "236  father side                        34.24\n",
              "237           no                        28.64\n",
              "239  father side                        22.24\n",
              "..           ...                          ...\n",
              "610  mother side                        10.18\n",
              "611           no                        25.96\n",
              "612         both                        14.96\n",
              "613           no                        16.88\n",
              "614  father side                        17.06\n",
              "\n",
              "[379 rows x 2 columns]"
            ]
          },
          "metadata": {},
          "execution_count": 112
        }
      ]
    },
    {
      "cell_type": "markdown",
      "source": [
        "get_dummies를 이용하여 numerical value값으로 바꾸어준다."
      ],
      "metadata": {
        "id": "OgaJKfwPL5th"
      }
    },
    {
      "cell_type": "code",
      "source": [
        "familydata=pd.get_dummies(df_2)\n",
        "familydata"
      ],
      "metadata": {
        "id": "Ue8BLVFRFdg_",
        "outputId": "212925c9-cf69-4d43-e5c8-5dda842aea1c",
        "colab": {
          "base_uri": "https://localhost:8080/",
          "height": 485
        }
      },
      "execution_count": 113,
      "outputs": [
        {
          "output_type": "execute_result",
          "data": {
            "text/html": [
              "\n",
              "  <div id=\"df-f1b6d1b2-81a7-4cfa-9d87-137f6fae20a9\">\n",
              "    <div class=\"colab-df-container\">\n",
              "      <div>\n",
              "<style scoped>\n",
              "    .dataframe tbody tr th:only-of-type {\n",
              "        vertical-align: middle;\n",
              "    }\n",
              "\n",
              "    .dataframe tbody tr th {\n",
              "        vertical-align: top;\n",
              "    }\n",
              "\n",
              "    .dataframe thead th {\n",
              "        text-align: right;\n",
              "    }\n",
              "</style>\n",
              "<table border=\"1\" class=\"dataframe\">\n",
              "  <thead>\n",
              "    <tr style=\"text-align: right;\">\n",
              "      <th></th>\n",
              "      <th>optical inspection-hairloss</th>\n",
              "      <th>가족탈모 여부_Don’t know</th>\n",
              "      <th>가족탈모 여부_both</th>\n",
              "      <th>가족탈모 여부_father side</th>\n",
              "      <th>가족탈모 여부_mother side</th>\n",
              "      <th>가족탈모 여부_no</th>\n",
              "    </tr>\n",
              "  </thead>\n",
              "  <tbody>\n",
              "    <tr>\n",
              "      <th>233</th>\n",
              "      <td>23.36</td>\n",
              "      <td>0</td>\n",
              "      <td>0</td>\n",
              "      <td>0</td>\n",
              "      <td>0</td>\n",
              "      <td>1</td>\n",
              "    </tr>\n",
              "    <tr>\n",
              "      <th>234</th>\n",
              "      <td>30.24</td>\n",
              "      <td>0</td>\n",
              "      <td>0</td>\n",
              "      <td>0</td>\n",
              "      <td>1</td>\n",
              "      <td>0</td>\n",
              "    </tr>\n",
              "    <tr>\n",
              "      <th>236</th>\n",
              "      <td>34.24</td>\n",
              "      <td>0</td>\n",
              "      <td>0</td>\n",
              "      <td>1</td>\n",
              "      <td>0</td>\n",
              "      <td>0</td>\n",
              "    </tr>\n",
              "    <tr>\n",
              "      <th>237</th>\n",
              "      <td>28.64</td>\n",
              "      <td>0</td>\n",
              "      <td>0</td>\n",
              "      <td>0</td>\n",
              "      <td>0</td>\n",
              "      <td>1</td>\n",
              "    </tr>\n",
              "    <tr>\n",
              "      <th>239</th>\n",
              "      <td>22.24</td>\n",
              "      <td>0</td>\n",
              "      <td>0</td>\n",
              "      <td>1</td>\n",
              "      <td>0</td>\n",
              "      <td>0</td>\n",
              "    </tr>\n",
              "    <tr>\n",
              "      <th>...</th>\n",
              "      <td>...</td>\n",
              "      <td>...</td>\n",
              "      <td>...</td>\n",
              "      <td>...</td>\n",
              "      <td>...</td>\n",
              "      <td>...</td>\n",
              "    </tr>\n",
              "    <tr>\n",
              "      <th>610</th>\n",
              "      <td>10.18</td>\n",
              "      <td>0</td>\n",
              "      <td>0</td>\n",
              "      <td>0</td>\n",
              "      <td>1</td>\n",
              "      <td>0</td>\n",
              "    </tr>\n",
              "    <tr>\n",
              "      <th>611</th>\n",
              "      <td>25.96</td>\n",
              "      <td>0</td>\n",
              "      <td>0</td>\n",
              "      <td>0</td>\n",
              "      <td>0</td>\n",
              "      <td>1</td>\n",
              "    </tr>\n",
              "    <tr>\n",
              "      <th>612</th>\n",
              "      <td>14.96</td>\n",
              "      <td>0</td>\n",
              "      <td>1</td>\n",
              "      <td>0</td>\n",
              "      <td>0</td>\n",
              "      <td>0</td>\n",
              "    </tr>\n",
              "    <tr>\n",
              "      <th>613</th>\n",
              "      <td>16.88</td>\n",
              "      <td>0</td>\n",
              "      <td>0</td>\n",
              "      <td>0</td>\n",
              "      <td>0</td>\n",
              "      <td>1</td>\n",
              "    </tr>\n",
              "    <tr>\n",
              "      <th>614</th>\n",
              "      <td>17.06</td>\n",
              "      <td>0</td>\n",
              "      <td>0</td>\n",
              "      <td>1</td>\n",
              "      <td>0</td>\n",
              "      <td>0</td>\n",
              "    </tr>\n",
              "  </tbody>\n",
              "</table>\n",
              "<p>379 rows × 6 columns</p>\n",
              "</div>\n",
              "      <button class=\"colab-df-convert\" onclick=\"convertToInteractive('df-f1b6d1b2-81a7-4cfa-9d87-137f6fae20a9')\"\n",
              "              title=\"Convert this dataframe to an interactive table.\"\n",
              "              style=\"display:none;\">\n",
              "        \n",
              "  <svg xmlns=\"http://www.w3.org/2000/svg\" height=\"24px\"viewBox=\"0 0 24 24\"\n",
              "       width=\"24px\">\n",
              "    <path d=\"M0 0h24v24H0V0z\" fill=\"none\"/>\n",
              "    <path d=\"M18.56 5.44l.94 2.06.94-2.06 2.06-.94-2.06-.94-.94-2.06-.94 2.06-2.06.94zm-11 1L8.5 8.5l.94-2.06 2.06-.94-2.06-.94L8.5 2.5l-.94 2.06-2.06.94zm10 10l.94 2.06.94-2.06 2.06-.94-2.06-.94-.94-2.06-.94 2.06-2.06.94z\"/><path d=\"M17.41 7.96l-1.37-1.37c-.4-.4-.92-.59-1.43-.59-.52 0-1.04.2-1.43.59L10.3 9.45l-7.72 7.72c-.78.78-.78 2.05 0 2.83L4 21.41c.39.39.9.59 1.41.59.51 0 1.02-.2 1.41-.59l7.78-7.78 2.81-2.81c.8-.78.8-2.07 0-2.86zM5.41 20L4 18.59l7.72-7.72 1.47 1.35L5.41 20z\"/>\n",
              "  </svg>\n",
              "      </button>\n",
              "      \n",
              "  <style>\n",
              "    .colab-df-container {\n",
              "      display:flex;\n",
              "      flex-wrap:wrap;\n",
              "      gap: 12px;\n",
              "    }\n",
              "\n",
              "    .colab-df-convert {\n",
              "      background-color: #E8F0FE;\n",
              "      border: none;\n",
              "      border-radius: 50%;\n",
              "      cursor: pointer;\n",
              "      display: none;\n",
              "      fill: #1967D2;\n",
              "      height: 32px;\n",
              "      padding: 0 0 0 0;\n",
              "      width: 32px;\n",
              "    }\n",
              "\n",
              "    .colab-df-convert:hover {\n",
              "      background-color: #E2EBFA;\n",
              "      box-shadow: 0px 1px 2px rgba(60, 64, 67, 0.3), 0px 1px 3px 1px rgba(60, 64, 67, 0.15);\n",
              "      fill: #174EA6;\n",
              "    }\n",
              "\n",
              "    [theme=dark] .colab-df-convert {\n",
              "      background-color: #3B4455;\n",
              "      fill: #D2E3FC;\n",
              "    }\n",
              "\n",
              "    [theme=dark] .colab-df-convert:hover {\n",
              "      background-color: #434B5C;\n",
              "      box-shadow: 0px 1px 3px 1px rgba(0, 0, 0, 0.15);\n",
              "      filter: drop-shadow(0px 1px 2px rgba(0, 0, 0, 0.3));\n",
              "      fill: #FFFFFF;\n",
              "    }\n",
              "  </style>\n",
              "\n",
              "      <script>\n",
              "        const buttonEl =\n",
              "          document.querySelector('#df-f1b6d1b2-81a7-4cfa-9d87-137f6fae20a9 button.colab-df-convert');\n",
              "        buttonEl.style.display =\n",
              "          google.colab.kernel.accessAllowed ? 'block' : 'none';\n",
              "\n",
              "        async function convertToInteractive(key) {\n",
              "          const element = document.querySelector('#df-f1b6d1b2-81a7-4cfa-9d87-137f6fae20a9');\n",
              "          const dataTable =\n",
              "            await google.colab.kernel.invokeFunction('convertToInteractive',\n",
              "                                                     [key], {});\n",
              "          if (!dataTable) return;\n",
              "\n",
              "          const docLinkHtml = 'Like what you see? Visit the ' +\n",
              "            '<a target=\"_blank\" href=https://colab.research.google.com/notebooks/data_table.ipynb>data table notebook</a>'\n",
              "            + ' to learn more about interactive tables.';\n",
              "          element.innerHTML = '';\n",
              "          dataTable['output_type'] = 'display_data';\n",
              "          await google.colab.output.renderOutput(dataTable, element);\n",
              "          const docLink = document.createElement('div');\n",
              "          docLink.innerHTML = docLinkHtml;\n",
              "          element.appendChild(docLink);\n",
              "        }\n",
              "      </script>\n",
              "    </div>\n",
              "  </div>\n",
              "  "
            ],
            "text/plain": [
              "     optical inspection-hairloss  ...  가족탈모 여부_no\n",
              "233                        23.36  ...           1\n",
              "234                        30.24  ...           0\n",
              "236                        34.24  ...           0\n",
              "237                        28.64  ...           1\n",
              "239                        22.24  ...           0\n",
              "..                           ...  ...         ...\n",
              "610                        10.18  ...           0\n",
              "611                        25.96  ...           1\n",
              "612                        14.96  ...           0\n",
              "613                        16.88  ...           1\n",
              "614                        17.06  ...           0\n",
              "\n",
              "[379 rows x 6 columns]"
            ]
          },
          "metadata": {},
          "execution_count": 113
        }
      ]
    },
    {
      "cell_type": "markdown",
      "source": [
        "이후 머신러닝을 진행해준다."
      ],
      "metadata": {
        "id": "CtzvT9uyMDmH"
      }
    },
    {
      "cell_type": "code",
      "source": [
        "y=familydata['optical inspection-hairloss'].astype('int')\n",
        "X = familydata.drop(columns='optical inspection-hairloss')\n",
        "\n",
        "\n",
        "from sklearn.model_selection import train_test_split\n",
        "\n",
        "X_train, X_test, y_train, y_test = train_test_split(\n",
        "    X,y,test_size=0.1,random_state=0)\n",
        "\n",
        "from sklearn.naive_bayes import GaussianNB\n",
        "\n",
        "model=GaussianNB()\n",
        "\n",
        "model.fit(X_train,y_train)\n",
        "\n",
        "predictions = model.predict(X_test)\n",
        "\n",
        "from sklearn.metrics import accuracy_score\n",
        "\n",
        "print(\"Accuracy: \", accuracy_score(y_test,predictions))\n"
      ],
      "metadata": {
        "id": "UFNYDMcy8N3X",
        "outputId": "5a9ab203-2342-42b2-ad99-d21468cb02f9",
        "colab": {
          "base_uri": "https://localhost:8080/"
        }
      },
      "execution_count": 123,
      "outputs": [
        {
          "output_type": "stream",
          "name": "stdout",
          "text": [
            "Accuracy:  0.02631578947368421\n"
          ]
        }
      ]
    },
    {
      "cell_type": "markdown",
      "source": [
        "머신러닝 결과 test_size=0.2일때 정확도가 0.01로 낮게 나왔는데, 위에서 나이대별 탈모진행 상태에서 나온 결론에 의해 내가 가지고 있는 데이터셋의 대부분의 사람이 이미 어느정도 탈모가 진행된 상태인 점을 생각해 보면 가족력이 있는 사람과 없는 사람의 탈모 진행상태 차이가 크지 않기 때문에 이렇게 낮은 정확도가 나온 것같다. 이 점을 고려하여 test_size를 0,1로 놓고 돌려본 결과 정확고다 0.02로 미묘하게 올라간 것을 볼 수 있다."
      ],
      "metadata": {
        "id": "YjPdQlrHK0-6"
      }
    }
  ]
}