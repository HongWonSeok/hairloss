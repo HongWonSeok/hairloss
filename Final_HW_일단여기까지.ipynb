{
  "nbformat": 4,
  "nbformat_minor": 0,
  "metadata": {
    "colab": {
      "name": "Final_HW.ipynb",
      "provenance": [],
      "authorship_tag": "ABX9TyN8xlQt6iGCF3r9SMuE1a/I",
      "include_colab_link": true
    },
    "kernelspec": {
      "name": "python3",
      "display_name": "Python 3"
    },
    "language_info": {
      "name": "python"
    }
  },
  "cells": [
    {
      "cell_type": "markdown",
      "metadata": {
        "id": "view-in-github",
        "colab_type": "text"
      },
      "source": [
        "<a href=\"https://colab.research.google.com/github/HongWonSeok/hairloss/blob/main/Final_HW_%EC%9D%BC%EB%8B%A8%EC%97%AC%EA%B8%B0%EA%B9%8C%EC%A7%80.ipynb\" target=\"_parent\"><img src=\"https://colab.research.google.com/assets/colab-badge.svg\" alt=\"Open In Colab\"/></a>"
      ]
    },
    {
      "cell_type": "code",
      "metadata": {
        "id": "V33f3KiAaror"
      },
      "source": [
        "import pandas as pd\n",
        "import matplotlib as mpl\n",
        "import matplotlib.pyplot as plt\n",
        "import matplotlib.font_manager as fm"
      ],
      "execution_count": 3,
      "outputs": []
    },
    {
      "cell_type": "markdown",
      "source": [
        "자료 출처 : https://www.idai.or.kr/user/data_market/detail.do?id=389a44b0-4e17-11ea-9259-977b63f3ed80\n",
        "\n",
        "**연령,성별 등을 대표 할 수 있는 탈모 DNA정보 데이터이다. DNA정보 및 라이프스타일, 스트레스, 두피 부위별 현미경 검사에대한 자료들이 담겨져있다.**\n",
        "\n",
        "이 데이터는 총 615명의 남녀에 대한 데이터이다."
      ],
      "metadata": {
        "id": "Vrnj0M9uZUy4"
      }
    },
    {
      "cell_type": "code",
      "metadata": {
        "colab": {
          "base_uri": "https://localhost:8080/",
          "height": 573
        },
        "id": "upoJ8ixEphEo",
        "outputId": "e270b33f-4a25-4977-929b-a3d01b9025cb"
      },
      "source": [
        "df = pd.read_csv('https://raw.githubusercontent.com/HongWonSeok/hairloss/main/hairlossdata.csv',encoding='CP949')\n",
        "df.head()\n"
      ],
      "execution_count": 4,
      "outputs": [
        {
          "output_type": "execute_result",
          "data": {
            "text/html": [
              "<div>\n",
              "<style scoped>\n",
              "    .dataframe tbody tr th:only-of-type {\n",
              "        vertical-align: middle;\n",
              "    }\n",
              "\n",
              "    .dataframe tbody tr th {\n",
              "        vertical-align: top;\n",
              "    }\n",
              "\n",
              "    .dataframe thead th {\n",
              "        text-align: right;\n",
              "    }\n",
              "</style>\n",
              "<table border=\"1\" class=\"dataframe\">\n",
              "  <thead>\n",
              "    <tr style=\"text-align: right;\">\n",
              "      <th></th>\n",
              "      <th>성별</th>\n",
              "      <th>세대</th>\n",
              "      <th>C-DNA-IL2RA</th>\n",
              "      <th>G-DNA- CTLA4</th>\n",
              "      <th>A-DNA-Chr20P11</th>\n",
              "      <th>G-DNA-HLA-DQB1</th>\n",
              "      <th>RNA-5alphaCt(dR)</th>\n",
              "      <th>RNA-GapCt(dR)</th>\n",
              "      <th>RNA-ddCt</th>\n",
              "      <th>RNA-개인수치</th>\n",
              "      <th>RNA-변환 값</th>\n",
              "      <th>수식</th>\n",
              "      <th>RNA 비교-남자비교</th>\n",
              "      <th>RNA 비교-여자비교</th>\n",
              "      <th>RNA 비교-10대비교</th>\n",
              "      <th>RNA 비교-20대비교</th>\n",
              "      <th>RNA 비교-30대비교</th>\n",
              "      <th>RNA 비교-40대비교</th>\n",
              "      <th>RNA 비교-50대비교</th>\n",
              "      <th>RNA 비교-정상인비교</th>\n",
              "      <th>물리검사(인장강도)-앞</th>\n",
              "      <th>물리검사(인장강도)-중앙</th>\n",
              "      <th>물리검사(인장강도)-뒤</th>\n",
              "      <th>tensile strength test-hairloss</th>\n",
              "      <th>물리검사(인장강도)-평균</th>\n",
              "      <th>물리검사(인장강도) 비교수치-남자비교</th>\n",
              "      <th>물리검사(인장강도) 비교수치-여자비교</th>\n",
              "      <th>물리검사(인장강도) 비교수치-10대비교</th>\n",
              "      <th>물리검사(인장강도) 비교수치-20대비교</th>\n",
              "      <th>물리검사(인장강도) 비교수치-30대비교</th>\n",
              "      <th>물리검사(인장강도) 비교수치-40대비교</th>\n",
              "      <th>물리검사(인장강도) 비교수치-50대비교</th>\n",
              "      <th>물리검사(인장강도) 비교수치-정상인비교</th>\n",
              "      <th>optical inspection-front</th>\n",
              "      <th>optical inspection-center</th>\n",
              "      <th>optical inspection-occipital</th>\n",
              "      <th>optical inspection-hairloss</th>\n",
              "      <th>optical inspection-mean</th>\n",
              "      <th>광학검사(현미경) 비교수치-남자비교</th>\n",
              "      <th>광학검사(현미경) 비교수치-여자비교</th>\n",
              "      <th>광학검사(현미경) 비교수치-10대비교</th>\n",
              "      <th>광학검사(현미경) 비교수치-20대비교</th>\n",
              "      <th>광학검사(현미경) 비교수치-30대비교</th>\n",
              "      <th>광학검사(현미경) 비교수치-40대비교</th>\n",
              "      <th>광학검사(현미경) 비교수치-50대비교</th>\n",
              "      <th>광학검사(현미경) 비교수치-정상인비교</th>\n",
              "      <th>life style - external factors</th>\n",
              "      <th>life style-internal factor</th>\n",
              "      <th>life style - mental health</th>\n",
              "      <th>life style - nutritional status</th>\n",
              "      <th>life style - total</th>\n",
              "      <th>가족탈모 여부</th>\n",
              "      <th>체모</th>\n",
              "      <th>아토피 여부</th>\n",
              "      <th>갑상선 질환 여부</th>\n",
              "      <th>알러지 비염 여부</th>\n",
              "      <th>샴푸 횟수</th>\n",
              "      <th>샴푸 후 헹굼</th>\n",
              "      <th>모자 착용</th>\n",
              "      <th>두피 타입</th>\n",
              "      <th>매달 염색 파마를 한다</th>\n",
              "      <th>수면 시간</th>\n",
              "      <th>쉽게 피곤함을 느낀다</th>\n",
              "      <th>일주일에 3회 이상, 5잔 이상의 술을 마신다</th>\n",
              "      <th>최소 하루 한 끼의 규칙적인 식사를 한다</th>\n",
              "      <th>하루에 담배를 반 갑 이상 피운다</th>\n",
              "      <th>땀이 날 정도의 운동</th>\n",
              "      <th>속쓰림이 있다</th>\n",
              "      <th>소화불량이 있다</th>\n",
              "      <th>주 3회 이상 섭취하는 음식에 체크</th>\n",
              "      <th>혼자라는 느낌이 들고 외롭다</th>\n",
              "      <th>무기력하다</th>\n",
              "      <th>감정을 솔직히 드러내는 편이다</th>\n",
              "      <th>취미, 여가 활동을 일주일에 1회 이상 한다</th>\n",
              "      <th>한 달에 1회 이상 모임을 갖는다</th>\n",
              "    </tr>\n",
              "  </thead>\n",
              "  <tbody>\n",
              "    <tr>\n",
              "      <th>0</th>\n",
              "      <td>man</td>\n",
              "      <td>20대</td>\n",
              "      <td>CC</td>\n",
              "      <td>GA</td>\n",
              "      <td>GA</td>\n",
              "      <td>GA</td>\n",
              "      <td>32.22</td>\n",
              "      <td>31.24</td>\n",
              "      <td>0.506980</td>\n",
              "      <td>225.9268003</td>\n",
              "      <td>FALSE</td>\n",
              "      <td>FALSE</td>\n",
              "      <td>109.9739132</td>\n",
              "      <td>FALSE</td>\n",
              "      <td>FALSE</td>\n",
              "      <td>FALSE</td>\n",
              "      <td>145.041151</td>\n",
              "      <td>55.9</td>\n",
              "      <td>93.4</td>\n",
              "      <td>54.2</td>\n",
              "      <td>51.4</td>\n",
              "      <td>63.725</td>\n",
              "      <td>0.7072697</td>\n",
              "      <td>NaN</td>\n",
              "      <td>FALSE</td>\n",
              "      <td>0.661596761</td>\n",
              "      <td>FALSE</td>\n",
              "      <td>FALSE</td>\n",
              "      <td>FALSE</td>\n",
              "      <td>0.704922566</td>\n",
              "      <td>22.2</td>\n",
              "      <td>25</td>\n",
              "      <td>20.80</td>\n",
              "      <td>19.90</td>\n",
              "      <td>21.975</td>\n",
              "      <td>0.708870968</td>\n",
              "      <td>NaN</td>\n",
              "      <td>NaN</td>\n",
              "      <td>0.68671875</td>\n",
              "      <td>FALSE</td>\n",
              "      <td>FALSE</td>\n",
              "      <td>FALSE</td>\n",
              "      <td>0.702076677</td>\n",
              "      <td>87</td>\n",
              "      <td>92.5</td>\n",
              "      <td>47.0</td>\n",
              "      <td>22.0</td>\n",
              "      <td>62.125</td>\n",
              "      <td>NaN</td>\n",
              "      <td>NaN</td>\n",
              "      <td>NaN</td>\n",
              "      <td>NaN</td>\n",
              "      <td>NaN</td>\n",
              "      <td>NaN</td>\n",
              "      <td>NaN</td>\n",
              "      <td>NaN</td>\n",
              "      <td>NaN</td>\n",
              "      <td>NaN</td>\n",
              "      <td>NaN</td>\n",
              "      <td>NaN</td>\n",
              "      <td>NaN</td>\n",
              "      <td>NaN</td>\n",
              "      <td>NaN</td>\n",
              "      <td>NaN</td>\n",
              "      <td>NaN</td>\n",
              "      <td>NaN</td>\n",
              "      <td>NaN</td>\n",
              "      <td>NaN</td>\n",
              "      <td>NaN</td>\n",
              "      <td>NaN</td>\n",
              "      <td>NaN</td>\n",
              "      <td>NaN</td>\n",
              "      <td>NaN</td>\n",
              "      <td>NaN</td>\n",
              "      <td>NaN</td>\n",
              "    </tr>\n",
              "    <tr>\n",
              "      <th>1</th>\n",
              "      <td>man</td>\n",
              "      <td>20대</td>\n",
              "      <td>CC</td>\n",
              "      <td>GA</td>\n",
              "      <td>GA</td>\n",
              "      <td>GA</td>\n",
              "      <td>27.49</td>\n",
              "      <td>23.02</td>\n",
              "      <td>0.045123</td>\n",
              "      <td>20.10819401</td>\n",
              "      <td>FALSE</td>\n",
              "      <td>FALSE</td>\n",
              "      <td>9.788023289</td>\n",
              "      <td>FALSE</td>\n",
              "      <td>FALSE</td>\n",
              "      <td>FALSE</td>\n",
              "      <td>12.90911746</td>\n",
              "      <td>122.1</td>\n",
              "      <td>130.9</td>\n",
              "      <td>119.3</td>\n",
              "      <td>116.0</td>\n",
              "      <td>122.075</td>\n",
              "      <td>1.354883463</td>\n",
              "      <td>NaN</td>\n",
              "      <td>FALSE</td>\n",
              "      <td>1.26738995</td>\n",
              "      <td>FALSE</td>\n",
              "      <td>FALSE</td>\n",
              "      <td>FALSE</td>\n",
              "      <td>1.350387168</td>\n",
              "      <td>36.4</td>\n",
              "      <td>43.52</td>\n",
              "      <td>42.64</td>\n",
              "      <td>33.76</td>\n",
              "      <td>39.080</td>\n",
              "      <td>1.260645161</td>\n",
              "      <td>NaN</td>\n",
              "      <td>NaN</td>\n",
              "      <td>1.22125</td>\n",
              "      <td>FALSE</td>\n",
              "      <td>FALSE</td>\n",
              "      <td>FALSE</td>\n",
              "      <td>1.2485623</td>\n",
              "      <td>95</td>\n",
              "      <td>85</td>\n",
              "      <td>4.0</td>\n",
              "      <td>40.0</td>\n",
              "      <td>56.000</td>\n",
              "      <td>NaN</td>\n",
              "      <td>NaN</td>\n",
              "      <td>NaN</td>\n",
              "      <td>NaN</td>\n",
              "      <td>NaN</td>\n",
              "      <td>NaN</td>\n",
              "      <td>NaN</td>\n",
              "      <td>NaN</td>\n",
              "      <td>NaN</td>\n",
              "      <td>NaN</td>\n",
              "      <td>NaN</td>\n",
              "      <td>NaN</td>\n",
              "      <td>NaN</td>\n",
              "      <td>NaN</td>\n",
              "      <td>NaN</td>\n",
              "      <td>NaN</td>\n",
              "      <td>NaN</td>\n",
              "      <td>NaN</td>\n",
              "      <td>NaN</td>\n",
              "      <td>NaN</td>\n",
              "      <td>NaN</td>\n",
              "      <td>NaN</td>\n",
              "      <td>NaN</td>\n",
              "      <td>NaN</td>\n",
              "      <td>NaN</td>\n",
              "      <td>NaN</td>\n",
              "      <td>NaN</td>\n",
              "    </tr>\n",
              "    <tr>\n",
              "      <th>2</th>\n",
              "      <td>woman</td>\n",
              "      <td>20대</td>\n",
              "      <td>CC</td>\n",
              "      <td>GA</td>\n",
              "      <td>GA</td>\n",
              "      <td>GA</td>\n",
              "      <td>35.64</td>\n",
              "      <td>33.82</td>\n",
              "      <td>0.283221</td>\n",
              "      <td>FALSE</td>\n",
              "      <td>97.68058937</td>\n",
              "      <td>FALSE</td>\n",
              "      <td>61.43621938</td>\n",
              "      <td>FALSE</td>\n",
              "      <td>FALSE</td>\n",
              "      <td>FALSE</td>\n",
              "      <td>81.02630623</td>\n",
              "      <td>106.5</td>\n",
              "      <td>73.1</td>\n",
              "      <td>64.6</td>\n",
              "      <td>48.3</td>\n",
              "      <td>73.125</td>\n",
              "      <td>FALSE</td>\n",
              "      <td>0.734925</td>\n",
              "      <td>FALSE</td>\n",
              "      <td>0.759188123</td>\n",
              "      <td>FALSE</td>\n",
              "      <td>FALSE</td>\n",
              "      <td>FALSE</td>\n",
              "      <td>0.808904867</td>\n",
              "      <td>34.88</td>\n",
              "      <td>35.04</td>\n",
              "      <td>25.84</td>\n",
              "      <td>24.16</td>\n",
              "      <td>29.980</td>\n",
              "      <td>FALSE</td>\n",
              "      <td>0.951746</td>\n",
              "      <td>NaN</td>\n",
              "      <td>0.936875</td>\n",
              "      <td>FALSE</td>\n",
              "      <td>FALSE</td>\n",
              "      <td>FALSE</td>\n",
              "      <td>0.957827476</td>\n",
              "      <td>76.5</td>\n",
              "      <td>72.5</td>\n",
              "      <td>52.0</td>\n",
              "      <td>44.0</td>\n",
              "      <td>61.250</td>\n",
              "      <td>NaN</td>\n",
              "      <td>NaN</td>\n",
              "      <td>NaN</td>\n",
              "      <td>NaN</td>\n",
              "      <td>NaN</td>\n",
              "      <td>NaN</td>\n",
              "      <td>NaN</td>\n",
              "      <td>NaN</td>\n",
              "      <td>NaN</td>\n",
              "      <td>NaN</td>\n",
              "      <td>NaN</td>\n",
              "      <td>NaN</td>\n",
              "      <td>NaN</td>\n",
              "      <td>NaN</td>\n",
              "      <td>NaN</td>\n",
              "      <td>NaN</td>\n",
              "      <td>NaN</td>\n",
              "      <td>NaN</td>\n",
              "      <td>NaN</td>\n",
              "      <td>NaN</td>\n",
              "      <td>NaN</td>\n",
              "      <td>NaN</td>\n",
              "      <td>NaN</td>\n",
              "      <td>NaN</td>\n",
              "      <td>NaN</td>\n",
              "      <td>NaN</td>\n",
              "      <td>NaN</td>\n",
              "    </tr>\n",
              "    <tr>\n",
              "      <th>3</th>\n",
              "      <td>man</td>\n",
              "      <td>20대</td>\n",
              "      <td>TT</td>\n",
              "      <td>GA</td>\n",
              "      <td>GA</td>\n",
              "      <td>GG</td>\n",
              "      <td>29.45</td>\n",
              "      <td>27.65</td>\n",
              "      <td>0.287175</td>\n",
              "      <td>127.9744157</td>\n",
              "      <td>FALSE</td>\n",
              "      <td>FALSE</td>\n",
              "      <td>62.29383704</td>\n",
              "      <td>FALSE</td>\n",
              "      <td>FALSE</td>\n",
              "      <td>FALSE</td>\n",
              "      <td>82.15739131</td>\n",
              "      <td>54.2</td>\n",
              "      <td>88.1</td>\n",
              "      <td>100.2</td>\n",
              "      <td>37.6</td>\n",
              "      <td>70.025</td>\n",
              "      <td>0.777192009</td>\n",
              "      <td>NaN</td>\n",
              "      <td>FALSE</td>\n",
              "      <td>0.727003738</td>\n",
              "      <td>FALSE</td>\n",
              "      <td>FALSE</td>\n",
              "      <td>FALSE</td>\n",
              "      <td>0.774612832</td>\n",
              "      <td>20.8</td>\n",
              "      <td>35.6</td>\n",
              "      <td>29.92</td>\n",
              "      <td>21.68</td>\n",
              "      <td>27.000</td>\n",
              "      <td>0.870967742</td>\n",
              "      <td>NaN</td>\n",
              "      <td>NaN</td>\n",
              "      <td>0.84375</td>\n",
              "      <td>FALSE</td>\n",
              "      <td>FALSE</td>\n",
              "      <td>FALSE</td>\n",
              "      <td>0.862619808</td>\n",
              "      <td>85</td>\n",
              "      <td>87.5</td>\n",
              "      <td>37.0</td>\n",
              "      <td>26.0</td>\n",
              "      <td>58.875</td>\n",
              "      <td>NaN</td>\n",
              "      <td>NaN</td>\n",
              "      <td>NaN</td>\n",
              "      <td>NaN</td>\n",
              "      <td>NaN</td>\n",
              "      <td>NaN</td>\n",
              "      <td>NaN</td>\n",
              "      <td>NaN</td>\n",
              "      <td>NaN</td>\n",
              "      <td>NaN</td>\n",
              "      <td>NaN</td>\n",
              "      <td>NaN</td>\n",
              "      <td>NaN</td>\n",
              "      <td>NaN</td>\n",
              "      <td>NaN</td>\n",
              "      <td>NaN</td>\n",
              "      <td>NaN</td>\n",
              "      <td>NaN</td>\n",
              "      <td>NaN</td>\n",
              "      <td>NaN</td>\n",
              "      <td>NaN</td>\n",
              "      <td>NaN</td>\n",
              "      <td>NaN</td>\n",
              "      <td>NaN</td>\n",
              "      <td>NaN</td>\n",
              "      <td>NaN</td>\n",
              "      <td>NaN</td>\n",
              "    </tr>\n",
              "    <tr>\n",
              "      <th>4</th>\n",
              "      <td>woman</td>\n",
              "      <td>30대</td>\n",
              "      <td>CC</td>\n",
              "      <td>GA</td>\n",
              "      <td>AA</td>\n",
              "      <td>GG</td>\n",
              "      <td>38.36</td>\n",
              "      <td>30.30</td>\n",
              "      <td>0.003747</td>\n",
              "      <td>FALSE</td>\n",
              "      <td>1.292352831</td>\n",
              "      <td>FALSE</td>\n",
              "      <td>FALSE</td>\n",
              "      <td>1.37559672</td>\n",
              "      <td>FALSE</td>\n",
              "      <td>FALSE</td>\n",
              "      <td>1.072010078</td>\n",
              "      <td>65.7</td>\n",
              "      <td>28.8</td>\n",
              "      <td>27.0</td>\n",
              "      <td>60.6</td>\n",
              "      <td>45.525</td>\n",
              "      <td>FALSE</td>\n",
              "      <td>0.457538</td>\n",
              "      <td>FALSE</td>\n",
              "      <td>FALSE</td>\n",
              "      <td>0.472643272</td>\n",
              "      <td>FALSE</td>\n",
              "      <td>FALSE</td>\n",
              "      <td>0.503595133</td>\n",
              "      <td>28.8</td>\n",
              "      <td>23.52</td>\n",
              "      <td>17.44</td>\n",
              "      <td>23.12</td>\n",
              "      <td>23.220</td>\n",
              "      <td>FALSE</td>\n",
              "      <td>0.737143</td>\n",
              "      <td>NaN</td>\n",
              "      <td>FALSE</td>\n",
              "      <td>0.749032258</td>\n",
              "      <td>FALSE</td>\n",
              "      <td>FALSE</td>\n",
              "      <td>0.741853035</td>\n",
              "      <td>60</td>\n",
              "      <td>77.5</td>\n",
              "      <td>45.0</td>\n",
              "      <td>55.0</td>\n",
              "      <td>59.375</td>\n",
              "      <td>NaN</td>\n",
              "      <td>NaN</td>\n",
              "      <td>NaN</td>\n",
              "      <td>NaN</td>\n",
              "      <td>NaN</td>\n",
              "      <td>NaN</td>\n",
              "      <td>NaN</td>\n",
              "      <td>NaN</td>\n",
              "      <td>NaN</td>\n",
              "      <td>NaN</td>\n",
              "      <td>NaN</td>\n",
              "      <td>NaN</td>\n",
              "      <td>NaN</td>\n",
              "      <td>NaN</td>\n",
              "      <td>NaN</td>\n",
              "      <td>NaN</td>\n",
              "      <td>NaN</td>\n",
              "      <td>NaN</td>\n",
              "      <td>NaN</td>\n",
              "      <td>NaN</td>\n",
              "      <td>NaN</td>\n",
              "      <td>NaN</td>\n",
              "      <td>NaN</td>\n",
              "      <td>NaN</td>\n",
              "      <td>NaN</td>\n",
              "      <td>NaN</td>\n",
              "      <td>NaN</td>\n",
              "    </tr>\n",
              "  </tbody>\n",
              "</table>\n",
              "</div>"
            ],
            "text/plain": [
              "      성별   세대  ... 취미, 여가 활동을 일주일에 1회 이상 한다 한 달에 1회 이상 모임을 갖는다\n",
              "0    man  20대  ...                      NaN                NaN\n",
              "1    man  20대  ...                      NaN                NaN\n",
              "2  woman  20대  ...                      NaN                NaN\n",
              "3    man  20대  ...                      NaN                NaN\n",
              "4  woman  30대  ...                      NaN                NaN\n",
              "\n",
              "[5 rows x 75 columns]"
            ]
          },
          "metadata": {},
          "execution_count": 4
        }
      ]
    },
    {
      "cell_type": "markdown",
      "source": [
        "**데이터상의 남자와 여자의 비율**\n",
        "\n",
        "이 데이터는 약71.7%의 남성과 28.3%의 여성의 데이터로 이루어져 있다. "
      ],
      "metadata": {
        "id": "RJcDCn-XE36w"
      }
    },
    {
      "cell_type": "code",
      "source": [
        "\n",
        "genderCount = df['성별'].value_counts(normalize =True)\n",
        "fig,ax = plt.subplots(figsize=(6,6))\n",
        "\n",
        "ax.pie(genderCount,\n",
        "       labels=genderCount.index,\n",
        "       explode=[0.05,0.05],\n",
        "       autopct=\"%1.1f%%\"\n",
        "       )\n",
        "plt.show()\n"
      ],
      "metadata": {
        "colab": {
          "base_uri": "https://localhost:8080/",
          "height": 357
        },
        "id": "p7tP3L8LY0_b",
        "outputId": "8d4ec13a-1960-49b2-b166-35390b412c96"
      },
      "execution_count": 5,
      "outputs": [
        {
          "output_type": "display_data",
          "data": {
            "image/png": "[encoded data removed]",
            "text/plain": [
              "<Figure size 432x432 with 1 Axes>"
            ]
          },
          "metadata": {}
        }
      ]
    },
    {
      "cell_type": "markdown",
      "source": [
        "**광학 검사(현미경)에 대한 탈모 진행 상태이다.**"
      ],
      "metadata": {
        "id": "k5PJzA0Io9Oi"
      }
    },
    {
      "cell_type": "code",
      "source": [
        "hair=df['optical inspection-hairloss'].dropna(axis=0)\n",
        "d=hair.index\n",
        "fig ,ax = plt.subplots(figsize=(10,5))\n",
        "\n",
        "sns.kdeplot(data=d,x=hair)"
      ],
      "metadata": {
        "colab": {
          "base_uri": "https://localhost:8080/",
          "height": 352
        },
        "id": "hmVQSbsTo5Xc",
        "outputId": "a5be8ff2-aa66-4fdf-82de-c642e4bd39f0"
      },
      "execution_count": 8,
      "outputs": [
        {
          "output_type": "execute_result",
          "data": {
            "text/plain": [
              "<matplotlib.axes._subplots.AxesSubplot at 0x7fc32049ed90>"
            ]
          },
          "metadata": {},
          "execution_count": 8
        },
        {
          "output_type": "display_data",
          "data": {
            "image/png": "[encoded data removed]",
            "text/plain": [
              "<Figure size 720x360 with 1 Axes>"
            ]
          },
          "metadata": {
            "needs_background": "light"
          }
        }
      ]
    },
    {
      "cell_type": "markdown",
      "source": [
        "**라이프 스타일**\n",
        "\n",
        "외부적 요인, 내부적 요인, 영양상태에 대한 통계이며, 오른쪽 하단 histplot은 각각의 사람에 대한 외부적 요인, 내부적 요인, 영양상태의 평균값을 나타낸다. \n",
        "\n",
        "아래의 자료를 볼때, 각기 다른 라이프 스타일을 가지고 있다. 평범하게 일상을 보내는 사람들은 보통 50-80수치를 가진 사람들이 많이 나타난다. 이 점을 보아 라이프 스타일에 탈모가 미치는 영향이 없다고 볼 수는 없지만 그렇게 크게 영향을 끼치지는 않는 것 처럼 보인다.."
      ],
      "metadata": {
        "id": "d7IWSMDbE8gY"
      }
    },
    {
      "cell_type": "code",
      "source": [
        "import seaborn as sns\n",
        "# subplot들을 만든다.\n",
        "fig,ax = plt.subplots(2,2,figsize=(15,8))\n",
        "attribute1='life style - external factors'\n",
        "attribute2='life style-internal factor'\n",
        "attribute3='life style - nutritional status'\n",
        "totattribute='life style - total'\n",
        "\n",
        "# 각각의 subplot에 histplot으로 데이터를 채워준다.\n",
        "sns.histplot(data=df,x=attribute1,color = \"purple\",ax=ax[0,0])\n",
        "sns.histplot(data=df,x=attribute2,color = \"blue\", ax=ax[0,1])\n",
        "sns.histplot(data=df,x=attribute3,color = \"green\", ax=ax[1,0])\n",
        "sns.histplot(data=df,x=totattribute,color = \"red\", ax=ax[1,1])\n",
        "\n"
      ],
      "metadata": {
        "colab": {
          "base_uri": "https://localhost:8080/",
          "height": 381
        },
        "id": "eNp9xxkKFG4s",
        "outputId": "295930c7-e68e-4c4b-c4ca-3c57410661b2"
      },
      "execution_count": 9,
      "outputs": [
        {
          "output_type": "execute_result",
          "data": {
            "text/plain": [
              "<matplotlib.axes._subplots.AxesSubplot at 0x7fc3204c2690>"
            ]
          },
          "metadata": {},
          "execution_count": 9
        },
        {
          "output_type": "display_data",
          "data": {
            "image/png": "[encoded data removed]",
            "text/plain": [
              "<Figure size 1080x576 with 4 Axes>"
            ]
          },
          "metadata": {
            "needs_background": "light"
          }
        }
      ]
    },
    {
      "cell_type": "markdown",
      "source": [
        "**외부적 요인, 내부적 요인, 영양 상태에 대한 평균**\n",
        "\n",
        "더 자세히 보기 위해 외부적 요인, 내부적 요인, 영양상태에 대한 각각의 평균을 추려보았다.\n",
        "\n",
        "각각의 평균을 보게되면 각각 외부적요인은 67.51863560732104, 내부적 요인은 67.80836106489187, 영양상태는 49.57114093959732의 추치를 가지고 있다. 이 데이터를 가지고 각각의 수치에 대한 평균을 보았을 때 외부적 요인, 내부적 요인에 대해 탈모는 크게 영향을 주는 것 같지 않은 것 처럼 보인다. 그러나 영양상태는 49.57114093959732로 빈약한 수치를 나타내는 것으로 보인다. 이점으로 보아, 영양상태는 탈모에 영향을 어느정도 끼치는 것으로 보인다."
      ],
      "metadata": {
        "id": "ZMOgeh8F27-2"
      }
    },
    {
      "cell_type": "code",
      "source": [
        "# 외부적 요인에 대한 평균\n",
        "externmean=df[attribute1].mean()\n",
        "externmean"
      ],
      "metadata": {
        "colab": {
          "base_uri": "https://localhost:8080/"
        },
        "id": "HRhlEAMy2Wss",
        "outputId": "3d443129-9011-48ad-bf4c-600363025300"
      },
      "execution_count": 10,
      "outputs": [
        {
          "output_type": "execute_result",
          "data": {
            "text/plain": [
              "67.51863560732104"
            ]
          },
          "metadata": {},
          "execution_count": 10
        }
      ]
    },
    {
      "cell_type": "code",
      "source": [
        "#내부적요인에 대한 평균\n",
        "internmean=df[attribute2].mean()\n",
        "internmean"
      ],
      "metadata": {
        "colab": {
          "base_uri": "https://localhost:8080/"
        },
        "id": "wcCnSBnO2uY8",
        "outputId": "91b07b76-925b-4f04-cebb-e206963db1aa"
      },
      "execution_count": 11,
      "outputs": [
        {
          "output_type": "execute_result",
          "data": {
            "text/plain": [
              "67.80836106489187"
            ]
          },
          "metadata": {},
          "execution_count": 11
        }
      ]
    },
    {
      "cell_type": "code",
      "source": [
        "#영양 상태에 대한평균\n",
        "nutritionalmean=df[attribute3].mean()\n",
        "nutritionalmean"
      ],
      "metadata": {
        "colab": {
          "base_uri": "https://localhost:8080/"
        },
        "id": "rlgCl-8T21ko",
        "outputId": "cf0b1a04-4bc2-43d3-96dd-88985c8fd6e1"
      },
      "execution_count": 12,
      "outputs": [
        {
          "output_type": "execute_result",
          "data": {
            "text/plain": [
              "49.57114093959732"
            ]
          },
          "metadata": {},
          "execution_count": 12
        }
      ]
    },
    {
      "cell_type": "markdown",
      "source": [
        "이것을 한눈에 보기위해 barplot으로 그려보았다.\n",
        "\n",
        "참조 (https://rfriend.tistory.com/411) "
      ],
      "metadata": {
        "id": "d_oJH9ru4QQv"
      }
    },
    {
      "cell_type": "code",
      "source": [
        "y=[externmean,internmean,nutritionalmean]\n",
        "x=['externmean','internmean','nutritionalmean']\n",
        "\n",
        "\n",
        "plt.barh(x,y)\n",
        "plt.title('mean of them',fontsize=25)\n",
        "plt.xlabel('life style')\n",
        "plt.ylabel('mean')\n",
        "\n",
        "plt.show()"
      ],
      "metadata": {
        "colab": {
          "base_uri": "https://localhost:8080/",
          "height": 304
        },
        "id": "uocj6DF64PNE",
        "outputId": "5548e5cf-587f-43e3-86f2-791522906d44"
      },
      "execution_count": 13,
      "outputs": [
        {
          "output_type": "display_data",
          "data": {
            "image/png": "[encoded data removed]",
            "text/plain": [
              "<Figure size 432x288 with 1 Axes>"
            ]
          },
          "metadata": {
            "needs_background": "light"
          }
        }
      ]
    },
    {
      "cell_type": "markdown",
      "source": [
        "**Classsification**"
      ],
      "metadata": {
        "id": "0oD0WXWwseDj"
      }
    },
    {
      "cell_type": "code",
      "source": [
        "C_df=df.dropna(subset=[attribute1,attribute2,attribute3,'optical inspection-hairloss'])\n",
        "\n",
        "X=C_df[[attribute1,attribute2,attribute3]].astype('int')\n",
        "Y=C_df['optical inspection-hairloss'].astype('int')"
      ],
      "metadata": {
        "id": "cyBit_RBk39H"
      },
      "execution_count": 50,
      "outputs": []
    },
    {
      "cell_type": "code",
      "source": [
        "from sklearn.model_selection import train_test_split\n",
        "X_train,X_test,Y_train,Y_test=train_test_split(\n",
        "    X,Y,test_size=0.3,random_state=0)\n",
        "\n",
        "from sklearn.svm import SVC\n",
        "from sklearn.metrics import confusion_matrix,classification_report\n",
        "from sklearn.metrics import f1_score\n",
        "\n",
        "model = SVC(gamma='auto')\n",
        "model.fit(X_train,Y_train)\n",
        "\n",
        "predictions = model.predict(X_test)\n",
        "print(classification_report(Y_test, predictions))\n",
        "print(\"F1-Score:\",f1_score(Y_test,predictions,average='micro'))"
      ],
      "metadata": {
        "colab": {
          "base_uri": "https://localhost:8080/"
        },
        "id": "wYabpHxbncQt",
        "outputId": "cf508f3e-a8cc-4c1c-98b5-1a0d74b1bfd2"
      },
      "execution_count": 101,
      "outputs": [
        {
          "output_type": "stream",
          "name": "stdout",
          "text": [
            "              precision    recall  f1-score   support\n",
            "\n",
            "          11       0.00      0.00      0.00         1\n",
            "          12       0.00      0.00      0.00         3\n",
            "          13       0.00      0.00      0.00         6\n",
            "          14       0.00      0.00      0.00         4\n",
            "          15       0.00      0.00      0.00         3\n",
            "          16       0.00      0.00      0.00         8\n",
            "          17       0.00      0.00      0.00         6\n",
            "          18       0.00      0.00      0.00         9\n",
            "          19       0.00      0.00      0.00         8\n",
            "          20       0.00      0.00      0.00         6\n",
            "          21       0.00      0.00      0.00         5\n",
            "          22       0.00      0.00      0.00        10\n",
            "          23       0.00      0.00      0.00         4\n",
            "          24       0.00      0.00      0.00        10\n",
            "          25       0.06      1.00      0.11         8\n",
            "          26       0.00      0.00      0.00        12\n",
            "          27       0.07      0.25      0.11         4\n",
            "          28       0.00      0.00      0.00         6\n",
            "          29       0.00      0.00      0.00         8\n",
            "          30       0.00      0.00      0.00         8\n",
            "          31       0.00      0.00      0.00        11\n",
            "          32       0.00      0.00      0.00        10\n",
            "          33       0.00      0.00      0.00         6\n",
            "          34       0.00      0.00      0.00         2\n",
            "          35       0.00      0.00      0.00         7\n",
            "          36       0.00      0.00      0.00         3\n",
            "          37       0.00      0.00      0.00         2\n",
            "          38       0.00      0.00      0.00         3\n",
            "          39       0.00      0.00      0.00         2\n",
            "          40       0.00      0.00      0.00         3\n",
            "          42       0.00      0.00      0.00         1\n",
            "\n",
            "    accuracy                           0.05       179\n",
            "   macro avg       0.00      0.04      0.01       179\n",
            "weighted avg       0.00      0.05      0.01       179\n",
            "\n",
            "F1-Score: 0.05027932960893855\n"
          ]
        },
        {
          "output_type": "stream",
          "name": "stderr",
          "text": [
            "/usr/local/lib/python3.7/dist-packages/sklearn/metrics/_classification.py:1308: UndefinedMetricWarning: Precision and F-score are ill-defined and being set to 0.0 in labels with no predicted samples. Use `zero_division` parameter to control this behavior.\n",
            "  _warn_prf(average, modifier, msg_start, len(result))\n",
            "/usr/local/lib/python3.7/dist-packages/sklearn/metrics/_classification.py:1308: UndefinedMetricWarning: Precision and F-score are ill-defined and being set to 0.0 in labels with no predicted samples. Use `zero_division` parameter to control this behavior.\n",
            "  _warn_prf(average, modifier, msg_start, len(result))\n",
            "/usr/local/lib/python3.7/dist-packages/sklearn/metrics/_classification.py:1308: UndefinedMetricWarning: Precision and F-score are ill-defined and being set to 0.0 in labels with no predicted samples. Use `zero_division` parameter to control this behavior.\n",
            "  _warn_prf(average, modifier, msg_start, len(result))\n"
          ]
        }
      ]
    },
    {
      "cell_type": "markdown",
      "source": [
        "참조(https://pythonq.com/so/python/660754)\n",
        "\n",
        "n_neighbors=14인경우가 제일 좋은 결과가 도출되었다."
      ],
      "metadata": {
        "id": "T2ibp6tJu8C4"
      }
    },
    {
      "cell_type": "code",
      "source": [
        "from sklearn.neighbors import KNeighborsClassifier\n",
        "\n",
        "model = KNeighborsClassifier(n_neighbors=14)\n",
        "model.fit(X_train,Y_train)\n",
        "predictions=model.predict(X_test)\n",
        "\n",
        "from sklearn.metrics import accuracy_score\n",
        "from sklearn.metrics import precision_score\n",
        "from sklearn.metrics import recall_score\n",
        "from sklearn.metrics import f1_score\n",
        "\n",
        "print(\"Accuracy:\",accuracy_score(Y_test,predictions))\n",
        "print(\"Precision:\",precision_score(Y_test,predictions,average='micro'))\n",
        "print(\"Recall:\",recall_score(Y_test,predictions,average='micro'))\n",
        "print(\"F1-Score:\",f1_score(Y_test,predictions,average='micro'))\n"
      ],
      "metadata": {
        "colab": {
          "base_uri": "https://localhost:8080/"
        },
        "id": "cP2PYEcvsmKp",
        "outputId": "0caec604-3729-4e2b-bf78-9354fa55aa40"
      },
      "execution_count": 100,
      "outputs": [
        {
          "output_type": "stream",
          "name": "stdout",
          "text": [
            "Accuracy: 0.061452513966480445\n",
            "Precision: 0.061452513966480445\n",
            "Recall: 0.061452513966480445\n",
            "F1-Score: 0.061452513966480445\n"
          ]
        }
      ]
    },
    {
      "cell_type": "markdown",
      "source": [
        "**탈모 가족력 데이터**"
      ],
      "metadata": {
        "id": "8IUO3h9q1LoU"
      }
    },
    {
      "cell_type": "code",
      "source": [
        "#탈모 가족력에 대한 데이터이다.\n",
        "df['가족탈모 여부']"
      ],
      "metadata": {
        "colab": {
          "base_uri": "https://localhost:8080/"
        },
        "id": "FaZuafmxz73z",
        "outputId": "8ba2acd7-32a1-4a01-fb75-5191965b4e5f"
      },
      "execution_count": 9,
      "outputs": [
        {
          "output_type": "execute_result",
          "data": {
            "text/plain": [
              "0              NaN\n",
              "1              NaN\n",
              "2              NaN\n",
              "3              NaN\n",
              "4              NaN\n",
              "          ...     \n",
              "610    mother side\n",
              "611             no\n",
              "612           both\n",
              "613             no\n",
              "614    father side\n",
              "Name: 가족탈모 여부, Length: 615, dtype: object"
            ]
          },
          "metadata": {},
          "execution_count": 9
        }
      ]
    },
    {
      "cell_type": "markdown",
      "source": [
        "**탈모 가족력에 대해 예외 처리한 부분**\n",
        "\n",
        "\n",
        "\n",
        "예외 처리 결과 총 615명의 대상중 379명 만이 이 항목에 대해 설문참여를 해주었다.\n",
        "\n",
        "이 자료에서 알아야 하는 것은 father side는 아버지쪽 사촌까지 다 포함 하고있고, mother side는 어머니쪽 사촌까지 다 포함 하고있다. 그러나 몇대까지(위로 할아버지 할머니 그 이상을 포함하는지)의 자료인지는 정확히 모르기 때문에 이자료를 완전히 신뢰 할 수는 없다."
      ],
      "metadata": {
        "id": "K_sFwnFV1HtS"
      }
    },
    {
      "cell_type": "code",
      "source": [
        "# 탈모 가족력에 대한 NAN값을 예외처리 한다. \n",
        "familyhairloss = df['가족탈모 여부'].dropna(axis=0)\n",
        "familyhairloss"
      ],
      "metadata": {
        "colab": {
          "base_uri": "https://localhost:8080/"
        },
        "id": "2wn6jfg_guGK",
        "outputId": "a220de60-0ec4-4cbf-a09d-f0914a08bacd"
      },
      "execution_count": 10,
      "outputs": [
        {
          "output_type": "execute_result",
          "data": {
            "text/plain": [
              "233             no\n",
              "234    mother side\n",
              "236    father side\n",
              "237             no\n",
              "239    father side\n",
              "          ...     \n",
              "610    mother side\n",
              "611             no\n",
              "612           both\n",
              "613             no\n",
              "614    father side\n",
              "Name: 가족탈모 여부, Length: 379, dtype: object"
            ]
          },
          "metadata": {},
          "execution_count": 10
        }
      ]
    },
    {
      "cell_type": "markdown",
      "source": [
        "참조 (https://datascienceschool.net/01%20python/05.04%20%EC%8B%9C%EB%B3%B8%EC%9D%84%20%EC%82%AC%EC%9A%A9%ED%95%9C%20%EB%8D%B0%EC%9D%B4%ED%84%B0%20%EB%B6%84%ED%8F%AC%20%EC%8B%9C%EA%B0%81%ED%99%94.html)\n",
        "\n",
        "자세히 보기위해 plot을 그려주었다.\n",
        "\n",
        "plot을 보게되면 탈모 보유자중 가족력이 없는 경우도 있지만 탈모 가족력이 있는 데이터들을 합치면 탈모 가족력이 없는 데이터의 2배정도 되는 것으로 보인다. 이 데이터로 보았을 때, 가족에 탈모가 있을 경우 본인도 탈모가 있을 확률이 있는 것으로 보인다. \n",
        "\n",
        "다시한번 말하지만 이 자료는 위로 몇대까지 탈모가 있는지 수집한 자료가 아니므로 설득력은 떨어지지만 당장 아버지쪽, 어머니쪽 사촌까지의 자료만 보아도 가족에 탈모가 있으면 본인도 탈모발생을 할 수 있는 확률이 있다고 볼 수 있다."
      ],
      "metadata": {
        "id": "99M93Ggpcwem"
      }
    },
    {
      "cell_type": "code",
      "source": [
        "x=familyhairloss.index\n",
        "\n",
        "#countplot을 활용하여 값별로\n",
        "sns.countplot(x=x,data=familyhairloss)\n",
        "plt.title('family hairloss',fontsize=25)\n",
        "plt.xlabel('family have')\n",
        "plt.ylabel('count')\n",
        "\n",
        "plt.show()"
      ],
      "metadata": {
        "colab": {
          "base_uri": "https://localhost:8080/",
          "height": 304
        },
        "id": "gUzi4aIZ1PkT",
        "outputId": "b78aa66b-6524-4d8e-ae0b-aa897d1cc299"
      },
      "execution_count": 11,
      "outputs": [
        {
          "output_type": "display_data",
          "data": {
            "image/png": "[encoded data removed]",
            "text/plain": [
              "<Figure size 432x288 with 1 Axes>"
            ]
          },
          "metadata": {
            "needs_background": "light"
          }
        }
      ]
    },
    {
      "cell_type": "markdown",
      "source": [
        "**광학검사(현미경)와 물리 검사(인장강도)의 상관관계**\n",
        "\n",
        "이 자료에서 현미경검사와 인장강도에 대한검사를 실시하였다. 이 두개의 데이터로 상관 관계를 나타내본다.\n",
        "\n",
        "수치가 1에 가까울 수록 관계가 깊고 0에 가까울 수록 관계가 적다. 아래 결과를 보면 현미경 검사결과 탈모율이 진행되는 상태와 두피에대한 인장 강도에 대한 correlation값이 매우 높게 나왔다. 이 말은 인장강도와 탈모 진행 상태와의 관계가 밀접하다는 것을 알 수있다.\n",
        "\n",
        "참조(https://youngwonhan-family.tistory.com/62)"
      ],
      "metadata": {
        "id": "cwlpObgThh-D"
      }
    },
    {
      "cell_type": "code",
      "source": [
        "data=df[['tensile strength test-hairloss','optical inspection-hairloss']].dropna(axis=0)\n",
        "\n",
        "corr_data = data.corr()\n",
        "corr_data = corr_data.apply(lambda x: round(x,2))\n",
        "corr_data"
      ],
      "metadata": {
        "colab": {
          "base_uri": "https://localhost:8080/",
          "height": 146
        },
        "id": "rT0lwmtghfrk",
        "outputId": "7c01b507-5f2b-4971-8eea-37a6eb13f581"
      },
      "execution_count": 46,
      "outputs": [
        {
          "output_type": "execute_result",
          "data": {
            "text/html": [
              "<div>\n",
              "<style scoped>\n",
              "    .dataframe tbody tr th:only-of-type {\n",
              "        vertical-align: middle;\n",
              "    }\n",
              "\n",
              "    .dataframe tbody tr th {\n",
              "        vertical-align: top;\n",
              "    }\n",
              "\n",
              "    .dataframe thead th {\n",
              "        text-align: right;\n",
              "    }\n",
              "</style>\n",
              "<table border=\"1\" class=\"dataframe\">\n",
              "  <thead>\n",
              "    <tr style=\"text-align: right;\">\n",
              "      <th></th>\n",
              "      <th>tensile strength test-hairloss</th>\n",
              "      <th>optical inspection-hairloss</th>\n",
              "    </tr>\n",
              "  </thead>\n",
              "  <tbody>\n",
              "    <tr>\n",
              "      <th>tensile strength test-hairloss</th>\n",
              "      <td>1.00</td>\n",
              "      <td>0.83</td>\n",
              "    </tr>\n",
              "    <tr>\n",
              "      <th>optical inspection-hairloss</th>\n",
              "      <td>0.83</td>\n",
              "      <td>1.00</td>\n",
              "    </tr>\n",
              "  </tbody>\n",
              "</table>\n",
              "</div>"
            ],
            "text/plain": [
              "                                tensile strength test-hairloss  optical inspection-hairloss\n",
              "tensile strength test-hairloss                            1.00                         0.83\n",
              "optical inspection-hairloss                               0.83                         1.00"
            ]
          },
          "metadata": {},
          "execution_count": 46
        }
      ]
    }
  ]
}