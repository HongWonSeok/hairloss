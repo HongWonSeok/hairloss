{
  "nbformat": 4,
  "nbformat_minor": 0,
  "metadata": {
    "colab": {
      "name": "Final_HW.ipynb",
      "provenance": [],
      "authorship_tag": "ABX9TyOctgm7r04s40r6c8jh7ie0",
      "include_colab_link": true
    },
    "kernelspec": {
      "name": "python3",
      "display_name": "Python 3"
    },
    "language_info": {
      "name": "python"
    }
  },
  "cells": [
    {
      "cell_type": "markdown",
      "metadata": {
        "id": "view-in-github",
        "colab_type": "text"
      },
      "source": [
        "<a href=\"https://colab.research.google.com/github/HongWonSeok/hairloss/blob/main/Final_HW_%EC%A4%91%EA%B0%84%EC%A0%95%EA%B2%80.ipynb\" target=\"_parent\"><img src=\"https://colab.research.google.com/assets/colab-badge.svg\" alt=\"Open In Colab\"/></a>"
      ]
    },
    {
      "cell_type": "code",
      "metadata": {
        "id": "V33f3KiAaror"
      },
      "source": [
        "import pandas as pd\n",
        "import matplotlib as mpl\n",
        "import matplotlib.pyplot as plt\n",
        "import matplotlib.font_manager as fm"
      ],
      "execution_count": 2,
      "outputs": []
    },
    {
      "cell_type": "markdown",
      "source": [
        "자료 출처 : https://www.idai.or.kr/user/data_market/detail.do?id=389a44b0-4e17-11ea-9259-977b63f3ed80\n",
        "\n",
        "**연령,성별 등을 대표 할 수 있는 탈모 DNA정보 데이터이다. DNA정보 및 라이프스타일, 스트레스, 두피 부위별 현미경 검사에대한 자료들이 담겨져있다.**\n",
        "\n",
        "이 데이터는 총 615명의 남녀에 대한 데이터이다."
      ],
      "metadata": {
        "id": "Vrnj0M9uZUy4"
      }
    },
    {
      "cell_type": "code",
      "metadata": {
        "colab": {
          "base_uri": "https://localhost:8080/"
        },
        "id": "upoJ8ixEphEo",
        "outputId": "ed216b08-571d-40a2-d745-ea6573556819"
      },
      "source": [
        "df = pd.read_csv('https://raw.githubusercontent.com/HongWonSeok/hairloss/main/hairlossdata.csv',encoding='CP949')\n",
        "df.head\n"
      ],
      "execution_count": 7,
      "outputs": [
        {
          "output_type": "execute_result",
          "data": {
            "text/plain": [
              "<bound method NDFrame.head of         성별   세대  ... 취미, 여가 활동을 일주일에 1회 이상 한다 한 달에 1회 이상 모임을 갖는다\n",
              "0      man  20대  ...                      NaN                NaN\n",
              "1      man  20대  ...                      NaN                NaN\n",
              "2    woman  20대  ...                      NaN                NaN\n",
              "3      man  20대  ...                      NaN                NaN\n",
              "4    woman  30대  ...                      NaN                NaN\n",
              "..     ...  ...  ...                      ...                ...\n",
              "610  woman  40대  ...                        예                  예\n",
              "611  woman  40대  ...                        예                아니오\n",
              "612    man  10대  ...                        예                  예\n",
              "613    man  10대  ...                      아니오                아니오\n",
              "614    man  30대  ...                        예                  예\n",
              "\n",
              "[615 rows x 75 columns]>"
            ]
          },
          "metadata": {},
          "execution_count": 7
        }
      ]
    },
    {
      "cell_type": "markdown",
      "source": [
        "**데이터상의 남자와 여자의 비율**\n",
        "\n",
        "이 데이터는 약71.7%의 남성과 28.3%의 여성의 데이터로 이루어져 있다. "
      ],
      "metadata": {
        "id": "RJcDCn-XE36w"
      }
    },
    {
      "cell_type": "code",
      "source": [
        "\n",
        "genderCount = df['성별'].value_counts(normalize =True)\n",
        "fig,ax = plt.subplots(figsize=(6,6))\n",
        "\n",
        "ax.pie(genderCount,\n",
        "       labels=genderCount.index,\n",
        "       explode=[0.05,0.05],\n",
        "       autopct=\"%1.1f%%\"\n",
        "       )\n",
        "plt.show()\n"
      ],
      "metadata": {
        "colab": {
          "base_uri": "https://localhost:8080/",
          "height": 357
        },
        "id": "p7tP3L8LY0_b",
        "outputId": "b32009e2-dd2e-44d7-f619-436fbee22027"
      },
      "execution_count": 4,
      "outputs": [
        {
          "output_type": "display_data",
          "data": {
            "image/png": "[encoded data removed]",
            "text/plain": [
              "<Figure size 432x432 with 1 Axes>"
            ]
          },
          "metadata": {}
        }
      ]
    },
    {
      "cell_type": "markdown",
      "source": [
        "**라이프 스타일**\n",
        "\n",
        "외부적 요인, 내부적 요인, 영양상태에 대한 통계이며, 오른쪽 하단 histplot은 각각의 사람에 대한 외부적 요인, 내부적 요인, 영양상태의 평균값을 나타낸다. \n",
        "\n",
        "아래의 자료를 볼때, 각기 다른 라이프 스타일을 가지고 있다. 평범하게 일상을 보내는 사람들은 보통 50-80수치를 가진 사람들이 많이 나타난다. 이 점을 보아 라이프 스타일에 탈모가 미치는 영향이 없다고 볼 수는 없지만 그렇게 크게 영향을 끼치지는 않는 것 같다."
      ],
      "metadata": {
        "id": "d7IWSMDbE8gY"
      }
    },
    {
      "cell_type": "code",
      "source": [
        "import seaborn as sns\n",
        "fig,ax = plt.subplots(2,2,figsize=(15,8))\n",
        "attribute1='life style - external factors'\n",
        "attribute2='life style-internal factor'\n",
        "attribute3='life style - nutritional status'\n",
        "totattribute='life style - total'\n",
        "\n",
        "sns.histplot(data=df,x=attribute1,color = \"purple\",ax=ax[0,0])\n",
        "sns.histplot(data=df,x=attribute2,color = \"blue\", ax=ax[0,1])\n",
        "sns.histplot(data=df,x=attribute3,color = \"green\", ax=ax[1,0])\n",
        "sns.histplot(data=df,x=totattribute,color = \"red\", ax=ax[1,1])\n",
        "\n"
      ],
      "metadata": {
        "colab": {
          "base_uri": "https://localhost:8080/",
          "height": 382
        },
        "id": "eNp9xxkKFG4s",
        "outputId": "7c4cd424-fdda-4cbc-f1cf-7d997a51cd28"
      },
      "execution_count": 15,
      "outputs": [
        {
          "output_type": "execute_result",
          "data": {
            "text/plain": [
              "<matplotlib.axes._subplots.AxesSubplot at 0x7fb5b12ff050>"
            ]
          },
          "metadata": {},
          "execution_count": 15
        },
        {
          "output_type": "display_data",
          "data": {
            "image/png": "[encoded data removed]",
            "text/plain": [
              "<Figure size 1080x576 with 4 Axes>"
            ]
          },
          "metadata": {
            "needs_background": "light"
          }
        }
      ]
    },
    {
      "cell_type": "code",
      "source": [
        "!sudo apt-get install -y fonts-nanum\n",
        "!sudo fc-cache -fv\n",
        "!rm ~/.cache/matplotlib -rf"
      ],
      "metadata": {
        "colab": {
          "base_uri": "https://localhost:8080/"
        },
        "id": "2Qu5jh2BgBD-",
        "outputId": "a64cb3b2-51b7-4e1a-d4dd-3a9ebec914c8"
      },
      "execution_count": 32,
      "outputs": [
        {
          "output_type": "stream",
          "name": "stdout",
          "text": [
            "Reading package lists... Done\n",
            "Building dependency tree       \n",
            "Reading state information... Done\n",
            "The following NEW packages will be installed:\n",
            "  fonts-nanum\n",
            "0 upgraded, 1 newly installed, 0 to remove and 37 not upgraded.\n",
            "Need to get 9,604 kB of archives.\n",
            "After this operation, 29.5 MB of additional disk space will be used.\n",
            "Get:1 http://archive.ubuntu.com/ubuntu bionic/universe amd64 fonts-nanum all 20170925-1 [9,604 kB]\n",
            "Fetched 9,604 kB in 2s (6,107 kB/s)\n",
            "debconf: unable to initialize frontend: Dialog\n",
            "debconf: (No usable dialog-like program is installed, so the dialog based frontend cannot be used. at /usr/share/perl5/Debconf/FrontEnd/Dialog.pm line 76, <> line 1.)\n",
            "debconf: falling back to frontend: Readline\n",
            "debconf: unable to initialize frontend: Readline\n",
            "debconf: (This frontend requires a controlling tty.)\n",
            "debconf: falling back to frontend: Teletype\n",
            "dpkg-preconfigure: unable to re-open stdin: \n",
            "Selecting previously unselected package fonts-nanum.\n",
            "(Reading database ... 155222 files and directories currently installed.)\n",
            "Preparing to unpack .../fonts-nanum_20170925-1_all.deb ...\n",
            "Unpacking fonts-nanum (20170925-1) ...\n",
            "Setting up fonts-nanum (20170925-1) ...\n",
            "Processing triggers for fontconfig (2.12.6-0ubuntu2) ...\n",
            "/usr/share/fonts: caching, new cache contents: 0 fonts, 1 dirs\n",
            "/usr/share/fonts/truetype: caching, new cache contents: 0 fonts, 3 dirs\n",
            "/usr/share/fonts/truetype/humor-sans: caching, new cache contents: 1 fonts, 0 dirs\n",
            "/usr/share/fonts/truetype/liberation: caching, new cache contents: 16 fonts, 0 dirs\n",
            "/usr/share/fonts/truetype/nanum: caching, new cache contents: 10 fonts, 0 dirs\n",
            "/usr/local/share/fonts: caching, new cache contents: 0 fonts, 0 dirs\n",
            "/root/.local/share/fonts: skipping, no such directory\n",
            "/root/.fonts: skipping, no such directory\n",
            "/var/cache/fontconfig: cleaning cache directory\n",
            "/root/.cache/fontconfig: not cleaning non-existent cache directory\n",
            "/root/.fontconfig: not cleaning non-existent cache directory\n",
            "fc-cache: succeeded\n"
          ]
        }
      ]
    },
    {
      "cell_type": "code",
      "source": [
        "plt.rc('font', family ='NanumBarunGothic')"
      ],
      "metadata": {
        "id": "vDHUa8iRgfZJ"
      },
      "execution_count": 6,
      "outputs": []
    },
    {
      "cell_type": "code",
      "source": [
        "familyhairloss = df['가족탈모 여부'].dropna(axis=0)\n",
        "familyhairloss\n"
      ],
      "metadata": {
        "colab": {
          "base_uri": "https://localhost:8080/"
        },
        "id": "2wn6jfg_guGK",
        "outputId": "bcd03082-4b0c-4cd0-d595-97704e9caa47"
      },
      "execution_count": 11,
      "outputs": [
        {
          "output_type": "execute_result",
          "data": {
            "text/plain": [
              "233       없음\n",
              "234    어머니 쪽\n",
              "236    아버지 쪽\n",
              "237       없음\n",
              "239    아버지 쪽\n",
              "       ...  \n",
              "610    어머니 쪽\n",
              "611       없음\n",
              "612       양쪽\n",
              "613       없음\n",
              "614    아버지 쪽\n",
              "Name: 가족탈모 여부, Length: 379, dtype: object"
            ]
          },
          "metadata": {},
          "execution_count": 11
        }
      ]
    }
  ]
}